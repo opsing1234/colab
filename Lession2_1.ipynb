{
  "nbformat": 4,
  "nbformat_minor": 0,
  "metadata": {
    "colab": {
      "name": "Lession2-1.ipynb",
      "provenance": [],
      "authorship_tag": "ABX9TyOkpIJ+YHSNNYN3DP9hN3Pu",
      "include_colab_link": true
    },
    "kernelspec": {
      "name": "python3",
      "display_name": "Python 3"
    },
    "language_info": {
      "name": "python"
    }
  },
  "cells": [
    {
      "cell_type": "markdown",
      "metadata": {
        "id": "view-in-github",
        "colab_type": "text"
      },
      "source": [
        "<a href=\"https://colab.research.google.com/github/opsing1234/colab/blob/main/Lession2_1.ipynb\" target=\"_parent\"><img src=\"https://colab.research.google.com/assets/colab-badge.svg\" alt=\"Open In Colab\"/></a>"
      ]
    },
    {
      "cell_type": "markdown",
      "source": [
        "2장 예제"
      ],
      "metadata": {
        "id": "b-sn1MVNkeJ3"
      }
    },
    {
      "cell_type": "code",
      "source": [
        "a = 100\n",
        "b = 200\n",
        "c =  a + b\n",
        "\n",
        "print(a, '+', b, '=', c)"
      ],
      "metadata": {
        "colab": {
          "base_uri": "https://localhost:8080/"
        },
        "id": "6ItJzG7Xkgig",
        "outputId": "50f78652-2622-4db7-e17e-0c6d5fe4239e"
      },
      "execution_count": 1,
      "outputs": [
        {
          "output_type": "stream",
          "name": "stdout",
          "text": [
            "100 + 200 = 300\n"
          ]
        }
      ]
    },
    {
      "cell_type": "code",
      "source": [
        "num1 = 500\n",
        "num2 = 200\n",
        "result = num1 - num2\n",
        "\n",
        "print(num1, '-', num2, '=', result)"
      ],
      "metadata": {
        "colab": {
          "base_uri": "https://localhost:8080/"
        },
        "id": "Vo4rpcvPloEX",
        "outputId": "435b8e8a-2ae5-4bb6-a42f-73a2afc43b6c"
      },
      "execution_count": 2,
      "outputs": [
        {
          "output_type": "stream",
          "name": "stdout",
          "text": [
            "500 - 200 = 300\n"
          ]
        }
      ]
    },
    {
      "cell_type": "code",
      "source": [
        "num1 = 8\n",
        "num2 = 17\n",
        "result =  num1 * num2\n",
        "\n",
        "print(num1, 'x', num2, '=', result)"
      ],
      "metadata": {
        "colab": {
          "base_uri": "https://localhost:8080/"
        },
        "id": "NlSDCq5LmLyf",
        "outputId": "2e523585-97cb-4b94-e607-97911a3b05ad"
      },
      "execution_count": 3,
      "outputs": [
        {
          "output_type": "stream",
          "name": "stdout",
          "text": [
            "8 x 17 = 136\n"
          ]
        }
      ]
    },
    {
      "cell_type": "code",
      "source": [
        "num1 = 8\n",
        "num2 = 17\n",
        "result = num1 / num2\n",
        "\n",
        "print(num1, '/', num2, '=', result)"
      ],
      "metadata": {
        "colab": {
          "base_uri": "https://localhost:8080/"
        },
        "id": "yJSWTwHMmejf",
        "outputId": "6386dfaf-813a-4b84-d303-ee41f91a476e"
      },
      "execution_count": 4,
      "outputs": [
        {
          "output_type": "stream",
          "name": "stdout",
          "text": [
            "8 / 17 = 0.47058823529411764\n"
          ]
        }
      ]
    },
    {
      "cell_type": "markdown",
      "source": [
        "나머지를 구하는 연산자 : %"
      ],
      "metadata": {
        "id": "wxVGMVUknLKA"
      }
    },
    {
      "cell_type": "code",
      "source": [
        "num1, num2 = 4, 2\n",
        "result = num1 % num2\n",
        "\n",
        "print(num1, '%', num2, '=', result)"
      ],
      "metadata": {
        "colab": {
          "base_uri": "https://localhost:8080/"
        },
        "id": "IdLsVqvimvLu",
        "outputId": "d99b13f1-e568-4c3b-a78d-44247a3af2e1"
      },
      "execution_count": 5,
      "outputs": [
        {
          "output_type": "stream",
          "name": "stdout",
          "text": [
            "4 % 2 = 0\n"
          ]
        }
      ]
    },
    {
      "cell_type": "markdown",
      "source": [
        "몫을 구하는 연산자 : //"
      ],
      "metadata": {
        "id": "lN7SGklFnf74"
      }
    },
    {
      "cell_type": "code",
      "source": [
        "num1, num2 = 4, 2\n",
        "result = num1 // num2\n",
        "\n",
        "print(num1, '//', num2, '=', result)"
      ],
      "metadata": {
        "colab": {
          "base_uri": "https://localhost:8080/"
        },
        "id": "89OuH1YLnS1m",
        "outputId": "d4e868e6-0cd5-4c0a-e403-3f4d4d705f7a"
      },
      "execution_count": 6,
      "outputs": [
        {
          "output_type": "stream",
          "name": "stdout",
          "text": [
            "4 // 2 = 2\n"
          ]
        }
      ]
    },
    {
      "cell_type": "markdown",
      "source": [
        "문자열 연산자 : + , *"
      ],
      "metadata": {
        "id": "5C54wDYNoLzB"
      }
    },
    {
      "cell_type": "code",
      "source": [
        "str1 = '안산공고'\n",
        "str2 = '컴퓨터과'\n",
        "result = str1 + str2\n",
        "\n",
        "print(str1, '+', str2, '=', result)"
      ],
      "metadata": {
        "colab": {
          "base_uri": "https://localhost:8080/"
        },
        "id": "iW__s9F6oRbO",
        "outputId": "2175c5e4-58d0-4961-ba8b-ca1c8b8bf2e2"
      },
      "execution_count": 7,
      "outputs": [
        {
          "output_type": "stream",
          "name": "stdout",
          "text": [
            "안산공고 + 컴퓨터과 = 안산공고컴퓨터과\n"
          ]
        }
      ]
    },
    {
      "cell_type": "code",
      "source": [
        "str1 = '안산공고'\n",
        "result = str1 * 3\n",
        "print(str1, '*', 3, '=', result)"
      ],
      "metadata": {
        "colab": {
          "base_uri": "https://localhost:8080/"
        },
        "id": "l9hbmiQsoqBQ",
        "outputId": "6dd0b92b-fd35-4e74-a79c-43346bebf3d9"
      },
      "execution_count": 8,
      "outputs": [
        {
          "output_type": "stream",
          "name": "stdout",
          "text": [
            "안산공고 * 3 = 안산공고안산공고안산공고\n"
          ]
        }
      ]
    },
    {
      "cell_type": "markdown",
      "source": [
        "2장 형성평가 1번"
      ],
      "metadata": {
        "id": "KZbFtY-VpMQH"
      }
    },
    {
      "cell_type": "code",
      "source": [
        "num1, num2 = 100, 200\n",
        "\n",
        "result1 = num1 + num2\n",
        "result2 = num1 - num2\n",
        "result3 = num1 * num2\n",
        "result4 = num1 / num2\n",
        "\n",
        "print(num1, '+', num2, '=', result1)\n",
        "print(num1, '-', num2, '=', result2)\n",
        "print(num1, '*', num2, '=', result3)\n",
        "print(num1, '/', num2, '=', result4)"
      ],
      "metadata": {
        "colab": {
          "base_uri": "https://localhost:8080/"
        },
        "id": "cfaEtpw_pQV2",
        "outputId": "2a1b6ac5-4192-4e73-cceb-1e82fb22822f"
      },
      "execution_count": 9,
      "outputs": [
        {
          "output_type": "stream",
          "name": "stdout",
          "text": [
            "100 + 200 = 300\n",
            "100 - 200 = -100\n",
            "100 * 200 = 20000\n",
            "100 / 200 = 0.5\n"
          ]
        }
      ]
    },
    {
      "cell_type": "markdown",
      "source": [
        "input 함수 사용"
      ],
      "metadata": {
        "id": "vOC4xpOAr4WO"
      }
    },
    {
      "cell_type": "code",
      "source": [
        "num1 = int(input('숫자1 ==> '))\n",
        "num2 = int(input('숫자2 ==> '))\n",
        "\n",
        "result = num1 + num2\n",
        "print(result)"
      ],
      "metadata": {
        "colab": {
          "base_uri": "https://localhost:8080/"
        },
        "id": "Zyqzo_zir7L3",
        "outputId": "5b613453-4026-48be-8961-42b1894ce532"
      },
      "execution_count": 10,
      "outputs": [
        {
          "output_type": "stream",
          "name": "stdout",
          "text": [
            "숫자1 ==> 100\n",
            "숫자2 ==> 200\n",
            "300\n"
          ]
        }
      ]
    },
    {
      "cell_type": "code",
      "source": [
        "name = input('이름 ==> ')\n",
        "tel = input('전화번호 ==> ')\n",
        "print('제 이름은 ', name, '이고,', '연락처는 ', tel, '입니다.')"
      ],
      "metadata": {
        "colab": {
          "base_uri": "https://localhost:8080/"
        },
        "id": "LBm7VegvsTbO",
        "outputId": "dbe17ee4-d115-4fb6-947f-a9d3cc7aee7c"
      },
      "execution_count": 14,
      "outputs": [
        {
          "output_type": "stream",
          "name": "stdout",
          "text": [
            "이름 ==> 난처음\n",
            "전화번호 ==> 010-1234-1234\n",
            "제 이름은  난처음 이고, 연락처는  010-1234-1234 입니다.\n"
          ]
        }
      ]
    },
    {
      "cell_type": "markdown",
      "source": [
        "2장 형성평가 2번"
      ],
      "metadata": {
        "id": "gPGCxaxOt3Z4"
      }
    },
    {
      "cell_type": "code",
      "source": [
        "print('## 택배를 보내기 위한 정보를 입력하세요. ##')\n",
        "name = input('받는 사람 : ')\n",
        "addr = input('주소 : ')\n",
        "gram = int(input('무게(g) : '))\n",
        "\n",
        "print(\"받는 사람 ==> \", name)\n",
        "print('주소 ==> ', addr)\n",
        "print('배송비 ==> ', gram * 5, '원')"
      ],
      "metadata": {
        "colab": {
          "base_uri": "https://localhost:8080/"
        },
        "id": "2DXFf_vnt6KW",
        "outputId": "a0c3eb7d-1ef7-41a9-bf39-09a2196e3c28"
      },
      "execution_count": 16,
      "outputs": [
        {
          "output_type": "stream",
          "name": "stdout",
          "text": [
            "## 택배를 보내기 위한 정보를 입력하세요. ##\n",
            "받는 사람 : 김난생\n",
            "주소 : 서울 영등포구 여의도동 88\n",
            "무게(g) : 721\n",
            "받는 사람 ==>  김난생\n",
            "주소 ==>  서울 영등포구 여의도동 88\n",
            "배송비 ==>  3605 원\n"
          ]
        }
      ]
    },
    {
      "cell_type": "markdown",
      "source": [
        "2장 형성평가 3번\n",
        "\n",
        "제곱 연산자 : **"
      ],
      "metadata": {
        "id": "H_-ja0emvuBX"
      }
    },
    {
      "cell_type": "code",
      "source": [
        "num1 = int(input('숫자1 ==> '))\n",
        "num2 = int(input('숫자1 ==> '))\n",
        "\n",
        "result1 = num1 + num2\n",
        "result2 = num1 - num2\n",
        "result3 = num1 * num2\n",
        "result4 = num1 / num2\n",
        "result5 = num1 % num2\n",
        "result6 = num1 ** num2\n",
        "\n",
        "print(num1, '+', num2, '=', result1)\n",
        "print(num1, '-', num2, '=', result2)\n",
        "print(num1, '*', num2, '=', result3)\n",
        "print(num1, '/', num2, '=', result4)\n",
        "print(num1, '%', num2, '=', result5)\n",
        "print(num1, '**', num2, '=', result6)"
      ],
      "metadata": {
        "colab": {
          "base_uri": "https://localhost:8080/"
        },
        "id": "pdyWGueDvwRN",
        "outputId": "66155f5e-ba1b-4206-bdb1-0f6e5974d0b5"
      },
      "execution_count": 18,
      "outputs": [
        {
          "output_type": "stream",
          "name": "stdout",
          "text": [
            "숫자1 ==> 100\n",
            "숫자1 ==> 10\n",
            "100 + 10 = 110\n",
            "100 - 10 = 90\n",
            "100 * 10 = 1000\n",
            "100 / 10 = 10.0\n",
            "100 % 10 = 0\n",
            "100 ** 10 = 100000000000000000000\n"
          ]
        }
      ]
    },
    {
      "cell_type": "markdown",
      "source": [
        "거북이 예제 1번"
      ],
      "metadata": {
        "id": "dchzz7USxol9"
      }
    },
    {
      "cell_type": "code",
      "source": [
        "#!pip3 install ColabTurtle\n",
        "import ColabTurtle.Turtle as turtle\n",
        "turtle.initializeTurtle()\n",
        "\n",
        "turtle.forward(50)\n",
        "turtle.left(90)\n",
        "turtle.forward(50)\n",
        "turtle.left(90)\n",
        "turtle.forward(50)\n",
        "turtle.left(90)\n",
        "turtle.forward(50)"
      ],
      "metadata": {
        "colab": {
          "base_uri": "https://localhost:8080/",
          "height": 520
        },
        "id": "E7CULqTxw_Im",
        "outputId": "78e69a94-25ee-4770-fe0a-6be5bb00c607"
      },
      "execution_count": 36,
      "outputs": [
        {
          "output_type": "display_data",
          "data": {
            "text/plain": [
              "<IPython.core.display.HTML object>"
            ],
            "text/html": [
              "\n",
              "      <svg width=\"800\" height=\"500\">\n",
              "        <rect width=\"100%\" height=\"100%\" fill=\"black\"/>\n",
              "        <line x1=\"400\" y1=\"250\" x2=\"400.0\" y2=\"200.0\" stroke-linecap=\"round\" style=\"stroke:white;stroke-width:4\"/><line x1=\"400.0\" y1=\"200.0\" x2=\"350.0\" y2=\"200.0\" stroke-linecap=\"round\" style=\"stroke:white;stroke-width:4\"/><line x1=\"350.0\" y1=\"200.0\" x2=\"350.0\" y2=\"250.0\" stroke-linecap=\"round\" style=\"stroke:white;stroke-width:4\"/><line x1=\"350.0\" y1=\"250.0\" x2=\"400.0\" y2=\"250.0\" stroke-linecap=\"round\" style=\"stroke:white;stroke-width:4\"/>\n",
              "        <g visibility=visible transform=\"rotate(90,400.0,250.0) translate(382.0, 232.0)\">\n",
              "<path style=\" stroke:none;fill-rule:evenodd;fill:white;fill-opacity:1;\" d=\"M 18.214844 0.632812 C 16.109375 1.800781 15.011719 4.074219 15.074219 7.132812 L 15.085938 7.652344 L 14.785156 7.496094 C 13.476562 6.824219 11.957031 6.671875 10.40625 7.066406 C 8.46875 7.550781 6.515625 9.15625 4.394531 11.992188 C 3.0625 13.777344 2.679688 14.636719 3.042969 15.027344 L 3.15625 15.152344 L 3.519531 15.152344 C 4.238281 15.152344 4.828125 14.886719 8.1875 13.039062 C 9.386719 12.378906 10.371094 11.839844 10.378906 11.839844 C 10.386719 11.839844 10.355469 11.929688 10.304688 12.035156 C 9.832031 13.09375 9.257812 14.820312 8.96875 16.078125 C 7.914062 20.652344 8.617188 24.53125 11.070312 27.660156 C 11.351562 28.015625 11.363281 27.914062 10.972656 28.382812 C 8.925781 30.84375 7.945312 33.28125 8.238281 35.1875 C 8.289062 35.527344 8.28125 35.523438 8.917969 35.523438 C 10.941406 35.523438 13.074219 34.207031 15.136719 31.6875 C 15.359375 31.417969 15.328125 31.425781 15.5625 31.574219 C 16.292969 32.042969 18.023438 32.964844 18.175781 32.964844 C 18.335938 32.964844 19.941406 32.210938 20.828125 31.71875 C 20.996094 31.625 21.136719 31.554688 21.136719 31.558594 C 21.203125 31.664062 21.898438 32.414062 22.222656 32.730469 C 23.835938 34.300781 25.5625 35.132812 27.582031 35.300781 C 27.90625 35.328125 27.9375 35.308594 28.007812 34.984375 C 28.382812 33.242188 27.625 30.925781 25.863281 28.425781 L 25.542969 27.96875 L 25.699219 27.785156 C 28.945312 23.960938 29.132812 18.699219 26.257812 11.96875 L 26.207031 11.84375 L 27.945312 12.703125 C 31.53125 14.476562 32.316406 14.800781 33.03125 14.800781 C 33.976562 14.800781 33.78125 13.9375 32.472656 12.292969 C 28.519531 7.355469 25.394531 5.925781 21.921875 7.472656 L 21.558594 7.636719 L 21.578125 7.542969 C 21.699219 6.992188 21.761719 5.742188 21.699219 5.164062 C 21.496094 3.296875 20.664062 1.964844 19.003906 0.855469 C 18.480469 0.503906 18.457031 0.5 18.214844 0.632812\"/>\n",
              "</g>\n",
              "      </svg>\n",
              "    "
            ]
          },
          "metadata": {}
        }
      ]
    }
  ]
}