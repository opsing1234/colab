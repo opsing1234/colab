{
  "nbformat": 4,
  "nbformat_minor": 0,
  "metadata": {
    "colab": {
      "provenance": [],
      "authorship_tag": "ABX9TyM1szcaxyydKI7ztuS2qvCL",
      "include_colab_link": true
    },
    "kernelspec": {
      "name": "python3",
      "display_name": "Python 3"
    },
    "language_info": {
      "name": "python"
    }
  },
  "cells": [
    {
      "cell_type": "markdown",
      "metadata": {
        "id": "view-in-github",
        "colab_type": "text"
      },
      "source": [
        "<a href=\"https://colab.research.google.com/github/opsing1234/colab/blob/main/Lession6.ipynb\" target=\"_parent\"><img src=\"https://colab.research.google.com/assets/colab-badge.svg\" alt=\"Open In Colab\"/></a>"
      ]
    },
    {
      "cell_type": "markdown",
      "source": [
        "6장 예제"
      ],
      "metadata": {
        "id": "HukcKvmQuyCO"
      }
    },
    {
      "cell_type": "code",
      "execution_count": null,
      "metadata": {
        "colab": {
          "base_uri": "https://localhost:8080/"
        },
        "id": "QI1kq_ynuhoj",
        "outputId": "f19c1182-d8b9-4704-c41f-73cd1085dad1"
      },
      "outputs": [
        {
          "output_type": "stream",
          "name": "stdout",
          "text": [
            "난생처음 파이썬은 재미있습니다 0\n",
            "난생처음 파이썬은 재미있습니다 1\n",
            "난생처음 파이썬은 재미있습니다 2\n"
          ]
        }
      ],
      "source": [
        "for i in range(3) :\n",
        "  print('난생처음 파이썬은 재미있습니다',i)"
      ]
    },
    {
      "cell_type": "code",
      "source": [
        "List = ['짜장면', '김밥', '라면']\n",
        "for i in List :\n",
        "  print(i)"
      ],
      "metadata": {
        "colab": {
          "base_uri": "https://localhost:8080/"
        },
        "id": "Us7eCabTwPs9",
        "outputId": "f27d27ab-e6a8-495f-8ce7-0ab72bff455f"
      },
      "execution_count": null,
      "outputs": [
        {
          "output_type": "stream",
          "name": "stdout",
          "text": [
            "짜장면\n",
            "김밥\n",
            "라면\n"
          ]
        }
      ]
    },
    {
      "cell_type": "code",
      "source": [
        "for i in range(2, 8, 2) :\n",
        "  print(i)"
      ],
      "metadata": {
        "colab": {
          "base_uri": "https://localhost:8080/"
        },
        "id": "DmtQJ-zixFVt",
        "outputId": "c9b35cf7-b9c9-48c2-a385-32d1f00e2bc8"
      },
      "execution_count": null,
      "outputs": [
        {
          "output_type": "stream",
          "name": "stdout",
          "text": [
            "2\n",
            "4\n",
            "6\n"
          ]
        }
      ]
    },
    {
      "cell_type": "markdown",
      "source": [
        "sum = 1 + 3 + 5 + 7 + 9...... + 99"
      ],
      "metadata": {
        "id": "s8MVE-4Qxx8M"
      }
    },
    {
      "cell_type": "code",
      "source": [
        "sum = 0\n",
        "for i in range(1, 100, 2):\n",
        "  sum += i\n",
        "  print(sum)"
      ],
      "metadata": {
        "colab": {
          "base_uri": "https://localhost:8080/"
        },
        "id": "JIfcW32KxKmt",
        "outputId": "faa7ef96-89b0-497d-a887-de669a05ecb6"
      },
      "execution_count": null,
      "outputs": [
        {
          "output_type": "stream",
          "name": "stdout",
          "text": [
            "1\n",
            "4\n",
            "9\n",
            "16\n",
            "25\n",
            "36\n",
            "49\n",
            "64\n",
            "81\n",
            "100\n",
            "121\n",
            "144\n",
            "169\n",
            "196\n",
            "225\n",
            "256\n",
            "289\n",
            "324\n",
            "361\n",
            "400\n",
            "441\n",
            "484\n",
            "529\n",
            "576\n",
            "625\n",
            "676\n",
            "729\n",
            "784\n",
            "841\n",
            "900\n",
            "961\n",
            "1024\n",
            "1089\n",
            "1156\n",
            "1225\n",
            "1296\n",
            "1369\n",
            "1444\n",
            "1521\n",
            "1600\n",
            "1681\n",
            "1764\n",
            "1849\n",
            "1936\n",
            "2025\n",
            "2116\n",
            "2209\n",
            "2304\n",
            "2401\n",
            "2500\n"
          ]
        }
      ]
    },
    {
      "cell_type": "markdown",
      "source": [
        "sum = 1 - 3 + 5 - 7 + 9 - 11...... + 99"
      ],
      "metadata": {
        "id": "fhTsVLqZyBpN"
      }
    },
    {
      "cell_type": "code",
      "source": [
        "num = 1\n",
        "sum = 0\n",
        "for i  in range(1, 100, 2):\n",
        "  if num == 1 :\n",
        "    sum += i\n",
        "    num = num * - 1\n",
        "  else :\n",
        "    sum -= i\n",
        "    num = num * - 1\n",
        "print(sum)"
      ],
      "metadata": {
        "colab": {
          "base_uri": "https://localhost:8080/"
        },
        "id": "u08BXgiLx_lW",
        "outputId": "8f9fe7c0-fdb8-486e-9717-46d30509dd54"
      },
      "execution_count": null,
      "outputs": [
        {
          "output_type": "stream",
          "name": "stdout",
          "text": [
            "-50\n"
          ]
        }
      ]
    },
    {
      "cell_type": "markdown",
      "source": [
        "형성평가 1번"
      ],
      "metadata": {
        "id": "Ye7HgJsJz2hN"
      }
    },
    {
      "cell_type": "code",
      "source": [
        "num1 = 1\n",
        "num2 = 5\n",
        "for i in range(1,num2 + 1,1) :\n",
        " num1 *= i\n",
        "print('A, B, C, D, E 학생들을 순서대로 세우는 경우의 수 : ', num1)"
      ],
      "metadata": {
        "colab": {
          "base_uri": "https://localhost:8080/"
        },
        "id": "LGfG0YESz2OF",
        "outputId": "23045374-0da0-4eae-f4c0-bb54b8b62bd7"
      },
      "execution_count": null,
      "outputs": [
        {
          "output_type": "stream",
          "name": "stdout",
          "text": [
            "A, B, C, D, E 학생들을 순서대로 세우는 경우의 수 :  120\n"
          ]
        }
      ]
    },
    {
      "cell_type": "code",
      "source": [
        "hap = 0\n",
        "\n",
        "for i in range(1, 11, 1) :\n",
        "  hap += i\n",
        "print('1에서 10까지의 합 : ', hap)"
      ],
      "metadata": {
        "colab": {
          "base_uri": "https://localhost:8080/"
        },
        "id": "l3vLeHMR1uJd",
        "outputId": "293c9417-46f6-4258-d607-b268247391f8"
      },
      "execution_count": null,
      "outputs": [
        {
          "output_type": "stream",
          "name": "stdout",
          "text": [
            "1에서 10까지의 합 :  55\n"
          ]
        }
      ]
    },
    {
      "cell_type": "code",
      "source": [
        "i, hap = 0, 0\n",
        "\n",
        "for i in range(1001, 2001, 2) :\n",
        "  hap += i\n",
        "print('1000에서 2000까지의 홀수의 합 : ', hap)"
      ],
      "metadata": {
        "colab": {
          "base_uri": "https://localhost:8080/"
        },
        "id": "_VRXwuh62Zat",
        "outputId": "f3b21e5d-7e65-48ba-fa12-46217976c28e"
      },
      "execution_count": null,
      "outputs": [
        {
          "output_type": "stream",
          "name": "stdout",
          "text": [
            "1000에서 2000까지의 홀수의 합 :  750000\n"
          ]
        }
      ]
    },
    {
      "cell_type": "code",
      "source": [
        "for i in range(3) :\n",
        "  for j in range(2) :\n",
        "    print('난생처음은 쉽습니다 (i값 : ', i, ', j값 : ', j,')')"
      ],
      "metadata": {
        "colab": {
          "base_uri": "https://localhost:8080/"
        },
        "id": "DY_NFUe03WDs",
        "outputId": "5af3e079-7535-4bb7-ebd2-02a84e6fd417"
      },
      "execution_count": null,
      "outputs": [
        {
          "output_type": "stream",
          "name": "stdout",
          "text": [
            "난생처음은 쉽습니다 (i값 :  0 , j값 :  0 )\n",
            "난생처음은 쉽습니다 (i값 :  0 , j값 :  1 )\n",
            "난생처음은 쉽습니다 (i값 :  1 , j값 :  0 )\n",
            "난생처음은 쉽습니다 (i값 :  1 , j값 :  1 )\n",
            "난생처음은 쉽습니다 (i값 :  2 , j값 :  0 )\n",
            "난생처음은 쉽습니다 (i값 :  2 , j값 :  1 )\n"
          ]
        }
      ]
    },
    {
      "cell_type": "markdown",
      "source": [
        "형성평가 2번"
      ],
      "metadata": {
        "id": "rRkmKgDb-2q8"
      }
    },
    {
      "cell_type": "code",
      "source": [
        "for i in range(2, 10) :\n",
        "  for j in range(1, 10) :\n",
        "    result = i * j\n",
        "    print(i, 'X', j, '=', result)"
      ],
      "metadata": {
        "colab": {
          "base_uri": "https://localhost:8080/"
        },
        "id": "u7mcaMF84SvV",
        "outputId": "39c0b884-3309-498f-c33f-88f82452f8cc"
      },
      "execution_count": null,
      "outputs": [
        {
          "output_type": "stream",
          "name": "stdout",
          "text": [
            "2 X 1 = 2\n",
            "2 X 2 = 4\n",
            "2 X 3 = 6\n",
            "2 X 4 = 8\n",
            "2 X 5 = 10\n",
            "2 X 6 = 12\n",
            "2 X 7 = 14\n",
            "2 X 8 = 16\n",
            "2 X 9 = 18\n",
            "3 X 1 = 3\n",
            "3 X 2 = 6\n",
            "3 X 3 = 9\n",
            "3 X 4 = 12\n",
            "3 X 5 = 15\n",
            "3 X 6 = 18\n",
            "3 X 7 = 21\n",
            "3 X 8 = 24\n",
            "3 X 9 = 27\n",
            "4 X 1 = 4\n",
            "4 X 2 = 8\n",
            "4 X 3 = 12\n",
            "4 X 4 = 16\n",
            "4 X 5 = 20\n",
            "4 X 6 = 24\n",
            "4 X 7 = 28\n",
            "4 X 8 = 32\n",
            "4 X 9 = 36\n",
            "5 X 1 = 5\n",
            "5 X 2 = 10\n",
            "5 X 3 = 15\n",
            "5 X 4 = 20\n",
            "5 X 5 = 25\n",
            "5 X 6 = 30\n",
            "5 X 7 = 35\n",
            "5 X 8 = 40\n",
            "5 X 9 = 45\n",
            "6 X 1 = 6\n",
            "6 X 2 = 12\n",
            "6 X 3 = 18\n",
            "6 X 4 = 24\n",
            "6 X 5 = 30\n",
            "6 X 6 = 36\n",
            "6 X 7 = 42\n",
            "6 X 8 = 48\n",
            "6 X 9 = 54\n",
            "7 X 1 = 7\n",
            "7 X 2 = 14\n",
            "7 X 3 = 21\n",
            "7 X 4 = 28\n",
            "7 X 5 = 35\n",
            "7 X 6 = 42\n",
            "7 X 7 = 49\n",
            "7 X 8 = 56\n",
            "7 X 9 = 63\n",
            "8 X 1 = 8\n",
            "8 X 2 = 16\n",
            "8 X 3 = 24\n",
            "8 X 4 = 32\n",
            "8 X 5 = 40\n",
            "8 X 6 = 48\n",
            "8 X 7 = 56\n",
            "8 X 8 = 64\n",
            "8 X 9 = 72\n",
            "9 X 1 = 9\n",
            "9 X 2 = 18\n",
            "9 X 3 = 27\n",
            "9 X 4 = 36\n",
            "9 X 5 = 45\n",
            "9 X 6 = 54\n",
            "9 X 7 = 63\n",
            "9 X 8 = 72\n",
            "9 X 9 = 81\n"
          ]
        }
      ]
    },
    {
      "cell_type": "markdown",
      "source": [
        "while 예제"
      ],
      "metadata": {
        "id": "XcJeIKBq-88r"
      }
    },
    {
      "cell_type": "code",
      "source": [
        "num1, num2 = 0, 0\n",
        "\n",
        "while True :\n",
        "  num1 = int(input('숫자1 ==> '))\n",
        "  if num1 == 0 :\n",
        "    break\n",
        "  num2 = int(input('숫자2 ==> '))\n",
        "  \n",
        "  hap = num1 + num2\n",
        "  print(num1, '+', num2, '=', hap)"
      ],
      "metadata": {
        "colab": {
          "base_uri": "https://localhost:8080/"
        },
        "id": "5wHymPGOBQT2",
        "outputId": "014906bf-30bb-4552-d314-56cc327cad37"
      },
      "execution_count": null,
      "outputs": [
        {
          "name": "stdout",
          "output_type": "stream",
          "text": [
            "숫자1 ==> 30\n",
            "숫자2 ==> 77\n",
            "30 + 77 = 107\n",
            "숫자1 ==> 8\n",
            "숫자2 ==> 12345\n",
            "8 + 12345 = 12353\n",
            "숫자1 ==> 0\n"
          ]
        }
      ]
    },
    {
      "cell_type": "markdown",
      "source": [
        "형성평가 3번"
      ],
      "metadata": {
        "id": "QdUmYkLRDYWM"
      }
    },
    {
      "cell_type": "code",
      "source": [
        "import random\n",
        "\n",
        "score = 0\n",
        "\n",
        "while True :\n",
        "  d1 = random.randint(1, 6)\n",
        "  d2 = random.randint(1, 6)\n",
        "  d3 = random.randint(1, 6)\n",
        "  if d1 == d2 == d3 :\n",
        "    break\n",
        "  else :\n",
        "    score += 1\n",
        "\n",
        "print('3개 주사위는 모두', d1, ' 입니다')\n",
        "print('같은 숫자가 나오기까지 ', score, '번 던졌습니다')"
      ],
      "metadata": {
        "colab": {
          "base_uri": "https://localhost:8080/"
        },
        "id": "RAw6IPnWDcvL",
        "outputId": "cea94371-9e68-458e-e678-2560b6aface4"
      },
      "execution_count": null,
      "outputs": [
        {
          "output_type": "stream",
          "name": "stdout",
          "text": [
            "3개 주사위는 모두 5  입니다\n",
            "같은 숫자가 나오기까지  12 번 던졌습니다\n"
          ]
        }
      ]
    },
    {
      "cell_type": "markdown",
      "source": [
        "형성평가 4번"
      ],
      "metadata": {
        "id": "_VSQgM1BEyr9"
      }
    },
    {
      "cell_type": "code",
      "source": [
        "import random\n",
        "\n",
        "score = 0\n",
        "\n",
        "while True :\n",
        "  pc_num = random.randint(1, 5)\n",
        "  print('게임', score, '회 : ', end = '')\n",
        "  user_num = int(input('컴퓨터가 생각한 숫자는? : '))\n",
        "  \n",
        "  if pc_num == user_num :\n",
        "    print('맞췄습니다 축하합니다!')\n",
        "    break\n",
        "  \n",
        "  elif score >= 10 :\n",
        "    print('10번 안에 못 맞췄습니다')\n",
        "    break\n",
        "  \n",
        "  else :\n",
        "    print('틀렸습니다', pc_num, '이였습니다')\n",
        "    score += 1\n",
        "    continue\n",
        "\n",
        "print('게임을 마칩니다')"
      ],
      "metadata": {
        "colab": {
          "base_uri": "https://localhost:8080/"
        },
        "id": "DV1dFV6YE01T",
        "outputId": "56478558-70c9-4c5d-a282-7698a3ab017a"
      },
      "execution_count": null,
      "outputs": [
        {
          "output_type": "stream",
          "name": "stdout",
          "text": [
            "게임 0 회 : 컴퓨터가 생각한 숫자는? : 3\n",
            "틀렸습니다 1 이였습니다\n",
            "게임 1 회 : 컴퓨터가 생각한 숫자는? : 2\n",
            "틀렸습니다 5 이였습니다\n",
            "게임 2 회 : 컴퓨터가 생각한 숫자는? : 1\n",
            "맞췄습니다 축하합니다!\n",
            "게임을 마칩니다\n"
          ]
        }
      ]
    },
    {
      "cell_type": "markdown",
      "source": [
        "야구게임"
      ],
      "metadata": {
        "id": "VI3cOlN4H0lm"
      }
    },
    {
      "cell_type": "code",
      "source": [
        "import random\n",
        "\n",
        "pc_list = [1, 2, 3, 4, 5, 6, 7, 8, 9]\n",
        "pc_num, user_num = [], []\n",
        "def user_fun() :\n",
        "  user_num.clear()\n",
        "  user = input('숫자 3개를 입력하세요(1~9) : ')\n",
        "  for i in range(0, 5, 2) :\n",
        "    user_num.append(int(user[i]))\n",
        "\n",
        "for i in range(3) :\n",
        "  n = random.choice(pc_list)\n",
        "  pc_list.remove(n)\n",
        "  pc_num.append(n)\n",
        "\n",
        "while True :\n",
        "  user_fun()\n",
        "  for i in range(3) :\n",
        "    if pc_num[i] == user_num[i] :\n",
        "      strike += 1\n",
        "    elif user_num[i] in pc_num :\n",
        "      ball += 1\n",
        "  print(strike, '스트라이크', ball, '볼')\n",
        "  if strike == 3 :\n",
        "    print('클리어!')\n",
        "    break\n",
        "  strike, ball = 0, 0"
      ],
      "metadata": {
        "id": "pyLKGgBQIBV1"
      },
      "execution_count": null,
      "outputs": []
    },
    {
      "cell_type": "markdown",
      "source": [
        "형성평가 5번"
      ],
      "metadata": {
        "id": "cJWSR956tp13"
      }
    },
    {
      "cell_type": "code",
      "source": [
        "#!pip3 install ColabTurtle\n",
        "import ColabTurtle.Turtle as turtle\n",
        "import random\n",
        "turtle.initializeTurtle()\n",
        "turtle.speed(13)\n",
        "turtle.right(90)\n",
        "color = ['red', 'blue', 'green', 'yellow', 'violet']\n",
        "for i in range(50, 800, 50) :\n",
        "  for j in range(50, 800, 50) :\n",
        "    turtle.penup()\n",
        "    turtle.goto(i,j)\n",
        "    turtle.pendown()\n",
        "    turtle.color(random.choice(color))\n",
        "    turtle.forward(1)\n",
        "#help(turtle)\n",
        "#dir(turtle)"
      ],
      "metadata": {
        "colab": {
          "base_uri": "https://localhost:8080/",
          "height": 520
        },
        "id": "8WnuguIstpOH",
        "outputId": "3a78847b-89dc-4ae2-b96f-b8abbaa49f1c"
      },
      "execution_count": 42,
      "outputs": [
        {
          "output_type": "display_data",
          "data": {
            "text/plain": [
              "<IPython.core.display.HTML object>"
            ],
            "text/html": [
              "\n",
              "      <svg width=\"800\" height=\"500\">\n",
              "        <rect width=\"100%\" height=\"100%\" fill=\"black\"/>\n",
              "        <line x1=\"50\" y1=\"50\" x2=\"51.0\" y2=\"50.0\" stroke-linecap=\"round\" style=\"stroke:violet;stroke-width:4\"/><line x1=\"50\" y1=\"100\" x2=\"51.0\" y2=\"100.0\" stroke-linecap=\"round\" style=\"stroke:red;stroke-width:4\"/><line x1=\"50\" y1=\"150\" x2=\"51.0\" y2=\"150.0\" stroke-linecap=\"round\" style=\"stroke:red;stroke-width:4\"/><line x1=\"50\" y1=\"200\" x2=\"51.0\" y2=\"200.0\" stroke-linecap=\"round\" style=\"stroke:violet;stroke-width:4\"/><line x1=\"50\" y1=\"250\" x2=\"51.0\" y2=\"250.0\" stroke-linecap=\"round\" style=\"stroke:yellow;stroke-width:4\"/><line x1=\"50\" y1=\"300\" x2=\"51.0\" y2=\"300.0\" stroke-linecap=\"round\" style=\"stroke:green;stroke-width:4\"/><line x1=\"50\" y1=\"350\" x2=\"51.0\" y2=\"350.0\" stroke-linecap=\"round\" style=\"stroke:green;stroke-width:4\"/><line x1=\"50\" y1=\"400\" x2=\"51.0\" y2=\"400.0\" stroke-linecap=\"round\" style=\"stroke:yellow;stroke-width:4\"/><line x1=\"50\" y1=\"450\" x2=\"51.0\" y2=\"450.0\" stroke-linecap=\"round\" style=\"stroke:blue;stroke-width:4\"/><line x1=\"50\" y1=\"500\" x2=\"51.0\" y2=\"500.0\" stroke-linecap=\"round\" style=\"stroke:red;stroke-width:4\"/><line x1=\"50\" y1=\"550\" x2=\"51.0\" y2=\"550.0\" stroke-linecap=\"round\" style=\"stroke:blue;stroke-width:4\"/><line x1=\"50\" y1=\"600\" x2=\"51.0\" y2=\"600.0\" stroke-linecap=\"round\" style=\"stroke:yellow;stroke-width:4\"/><line x1=\"50\" y1=\"650\" x2=\"51.0\" y2=\"650.0\" stroke-linecap=\"round\" style=\"stroke:violet;stroke-width:4\"/><line x1=\"50\" y1=\"700\" x2=\"51.0\" y2=\"700.0\" stroke-linecap=\"round\" style=\"stroke:blue;stroke-width:4\"/><line x1=\"50\" y1=\"750\" x2=\"51.0\" y2=\"750.0\" stroke-linecap=\"round\" style=\"stroke:violet;stroke-width:4\"/><line x1=\"100\" y1=\"50\" x2=\"101.0\" y2=\"50.0\" stroke-linecap=\"round\" style=\"stroke:red;stroke-width:4\"/><line x1=\"100\" y1=\"100\" x2=\"101.0\" y2=\"100.0\" stroke-linecap=\"round\" style=\"stroke:blue;stroke-width:4\"/><line x1=\"100\" y1=\"150\" x2=\"101.0\" y2=\"150.0\" stroke-linecap=\"round\" style=\"stroke:yellow;stroke-width:4\"/><line x1=\"100\" y1=\"200\" x2=\"101.0\" y2=\"200.0\" stroke-linecap=\"round\" style=\"stroke:red;stroke-width:4\"/><line x1=\"100\" y1=\"250\" x2=\"101.0\" y2=\"250.0\" stroke-linecap=\"round\" style=\"stroke:yellow;stroke-width:4\"/><line x1=\"100\" y1=\"300\" x2=\"101.0\" y2=\"300.0\" stroke-linecap=\"round\" style=\"stroke:yellow;stroke-width:4\"/><line x1=\"100\" y1=\"350\" x2=\"101.0\" y2=\"350.0\" stroke-linecap=\"round\" style=\"stroke:yellow;stroke-width:4\"/><line x1=\"100\" y1=\"400\" x2=\"101.0\" y2=\"400.0\" stroke-linecap=\"round\" style=\"stroke:violet;stroke-width:4\"/><line x1=\"100\" y1=\"450\" x2=\"101.0\" y2=\"450.0\" stroke-linecap=\"round\" style=\"stroke:green;stroke-width:4\"/><line x1=\"100\" y1=\"500\" x2=\"101.0\" y2=\"500.0\" stroke-linecap=\"round\" style=\"stroke:violet;stroke-width:4\"/><line x1=\"100\" y1=\"550\" x2=\"101.0\" y2=\"550.0\" stroke-linecap=\"round\" style=\"stroke:red;stroke-width:4\"/><line x1=\"100\" y1=\"600\" x2=\"101.0\" y2=\"600.0\" stroke-linecap=\"round\" style=\"stroke:red;stroke-width:4\"/><line x1=\"100\" y1=\"650\" x2=\"101.0\" y2=\"650.0\" stroke-linecap=\"round\" style=\"stroke:blue;stroke-width:4\"/><line x1=\"100\" y1=\"700\" x2=\"101.0\" y2=\"700.0\" stroke-linecap=\"round\" style=\"stroke:blue;stroke-width:4\"/><line x1=\"100\" y1=\"750\" x2=\"101.0\" y2=\"750.0\" stroke-linecap=\"round\" style=\"stroke:blue;stroke-width:4\"/><line x1=\"150\" y1=\"50\" x2=\"151.0\" y2=\"50.0\" stroke-linecap=\"round\" style=\"stroke:violet;stroke-width:4\"/><line x1=\"150\" y1=\"100\" x2=\"151.0\" y2=\"100.0\" stroke-linecap=\"round\" style=\"stroke:red;stroke-width:4\"/><line x1=\"150\" y1=\"150\" x2=\"151.0\" y2=\"150.0\" stroke-linecap=\"round\" style=\"stroke:red;stroke-width:4\"/><line x1=\"150\" y1=\"200\" x2=\"151.0\" y2=\"200.0\" stroke-linecap=\"round\" style=\"stroke:violet;stroke-width:4\"/><line x1=\"150\" y1=\"250\" x2=\"151.0\" y2=\"250.0\" stroke-linecap=\"round\" style=\"stroke:blue;stroke-width:4\"/><line x1=\"150\" y1=\"300\" x2=\"151.0\" y2=\"300.0\" stroke-linecap=\"round\" style=\"stroke:red;stroke-width:4\"/><line x1=\"150\" y1=\"350\" x2=\"151.0\" y2=\"350.0\" stroke-linecap=\"round\" style=\"stroke:green;stroke-width:4\"/><line x1=\"150\" y1=\"400\" x2=\"151.0\" y2=\"400.0\" stroke-linecap=\"round\" style=\"stroke:violet;stroke-width:4\"/><line x1=\"150\" y1=\"450\" x2=\"151.0\" y2=\"450.0\" stroke-linecap=\"round\" style=\"stroke:blue;stroke-width:4\"/><line x1=\"150\" y1=\"500\" x2=\"151.0\" y2=\"500.0\" stroke-linecap=\"round\" style=\"stroke:violet;stroke-width:4\"/><line x1=\"150\" y1=\"550\" x2=\"151.0\" y2=\"550.0\" stroke-linecap=\"round\" style=\"stroke:green;stroke-width:4\"/><line x1=\"150\" y1=\"600\" x2=\"151.0\" y2=\"600.0\" stroke-linecap=\"round\" style=\"stroke:violet;stroke-width:4\"/><line x1=\"150\" y1=\"650\" x2=\"151.0\" y2=\"650.0\" stroke-linecap=\"round\" style=\"stroke:violet;stroke-width:4\"/><line x1=\"150\" y1=\"700\" x2=\"151.0\" y2=\"700.0\" stroke-linecap=\"round\" style=\"stroke:violet;stroke-width:4\"/><line x1=\"150\" y1=\"750\" x2=\"151.0\" y2=\"750.0\" stroke-linecap=\"round\" style=\"stroke:violet;stroke-width:4\"/><line x1=\"200\" y1=\"50\" x2=\"201.0\" y2=\"50.0\" stroke-linecap=\"round\" style=\"stroke:red;stroke-width:4\"/><line x1=\"200\" y1=\"100\" x2=\"201.0\" y2=\"100.0\" stroke-linecap=\"round\" style=\"stroke:blue;stroke-width:4\"/><line x1=\"200\" y1=\"150\" x2=\"201.0\" y2=\"150.0\" stroke-linecap=\"round\" style=\"stroke:red;stroke-width:4\"/><line x1=\"200\" y1=\"200\" x2=\"201.0\" y2=\"200.0\" stroke-linecap=\"round\" style=\"stroke:yellow;stroke-width:4\"/><line x1=\"200\" y1=\"250\" x2=\"201.0\" y2=\"250.0\" stroke-linecap=\"round\" style=\"stroke:red;stroke-width:4\"/><line x1=\"200\" y1=\"300\" x2=\"201.0\" y2=\"300.0\" stroke-linecap=\"round\" style=\"stroke:red;stroke-width:4\"/><line x1=\"200\" y1=\"350\" x2=\"201.0\" y2=\"350.0\" stroke-linecap=\"round\" style=\"stroke:red;stroke-width:4\"/><line x1=\"200\" y1=\"400\" x2=\"201.0\" y2=\"400.0\" stroke-linecap=\"round\" style=\"stroke:blue;stroke-width:4\"/><line x1=\"200\" y1=\"450\" x2=\"201.0\" y2=\"450.0\" stroke-linecap=\"round\" style=\"stroke:red;stroke-width:4\"/><line x1=\"200\" y1=\"500\" x2=\"201.0\" y2=\"500.0\" stroke-linecap=\"round\" style=\"stroke:blue;stroke-width:4\"/><line x1=\"200\" y1=\"550\" x2=\"201.0\" y2=\"550.0\" stroke-linecap=\"round\" style=\"stroke:violet;stroke-width:4\"/><line x1=\"200\" y1=\"600\" x2=\"201.0\" y2=\"600.0\" stroke-linecap=\"round\" style=\"stroke:red;stroke-width:4\"/><line x1=\"200\" y1=\"650\" x2=\"201.0\" y2=\"650.0\" stroke-linecap=\"round\" style=\"stroke:blue;stroke-width:4\"/><line x1=\"200\" y1=\"700\" x2=\"201.0\" y2=\"700.0\" stroke-linecap=\"round\" style=\"stroke:blue;stroke-width:4\"/><line x1=\"200\" y1=\"750\" x2=\"201.0\" y2=\"750.0\" stroke-linecap=\"round\" style=\"stroke:yellow;stroke-width:4\"/><line x1=\"250\" y1=\"50\" x2=\"251.0\" y2=\"50.0\" stroke-linecap=\"round\" style=\"stroke:yellow;stroke-width:4\"/><line x1=\"250\" y1=\"100\" x2=\"251.0\" y2=\"100.0\" stroke-linecap=\"round\" style=\"stroke:violet;stroke-width:4\"/><line x1=\"250\" y1=\"150\" x2=\"251.0\" y2=\"150.0\" stroke-linecap=\"round\" style=\"stroke:green;stroke-width:4\"/><line x1=\"250\" y1=\"200\" x2=\"251.0\" y2=\"200.0\" stroke-linecap=\"round\" style=\"stroke:red;stroke-width:4\"/><line x1=\"250\" y1=\"250\" x2=\"251.0\" y2=\"250.0\" stroke-linecap=\"round\" style=\"stroke:yellow;stroke-width:4\"/><line x1=\"250\" y1=\"300\" x2=\"251.0\" y2=\"300.0\" stroke-linecap=\"round\" style=\"stroke:red;stroke-width:4\"/><line x1=\"250\" y1=\"350\" x2=\"251.0\" y2=\"350.0\" stroke-linecap=\"round\" style=\"stroke:blue;stroke-width:4\"/><line x1=\"250\" y1=\"400\" x2=\"251.0\" y2=\"400.0\" stroke-linecap=\"round\" style=\"stroke:blue;stroke-width:4\"/><line x1=\"250\" y1=\"450\" x2=\"251.0\" y2=\"450.0\" stroke-linecap=\"round\" style=\"stroke:yellow;stroke-width:4\"/><line x1=\"250\" y1=\"500\" x2=\"251.0\" y2=\"500.0\" stroke-linecap=\"round\" style=\"stroke:green;stroke-width:4\"/><line x1=\"250\" y1=\"550\" x2=\"251.0\" y2=\"550.0\" stroke-linecap=\"round\" style=\"stroke:green;stroke-width:4\"/><line x1=\"250\" y1=\"600\" x2=\"251.0\" y2=\"600.0\" stroke-linecap=\"round\" style=\"stroke:yellow;stroke-width:4\"/><line x1=\"250\" y1=\"650\" x2=\"251.0\" y2=\"650.0\" stroke-linecap=\"round\" style=\"stroke:green;stroke-width:4\"/><line x1=\"250\" y1=\"700\" x2=\"251.0\" y2=\"700.0\" stroke-linecap=\"round\" style=\"stroke:red;stroke-width:4\"/><line x1=\"250\" y1=\"750\" x2=\"251.0\" y2=\"750.0\" stroke-linecap=\"round\" style=\"stroke:green;stroke-width:4\"/><line x1=\"300\" y1=\"50\" x2=\"301.0\" y2=\"50.0\" stroke-linecap=\"round\" style=\"stroke:blue;stroke-width:4\"/><line x1=\"300\" y1=\"100\" x2=\"301.0\" y2=\"100.0\" stroke-linecap=\"round\" style=\"stroke:red;stroke-width:4\"/><line x1=\"300\" y1=\"150\" x2=\"301.0\" y2=\"150.0\" stroke-linecap=\"round\" style=\"stroke:blue;stroke-width:4\"/><line x1=\"300\" y1=\"200\" x2=\"301.0\" y2=\"200.0\" stroke-linecap=\"round\" style=\"stroke:green;stroke-width:4\"/><line x1=\"300\" y1=\"250\" x2=\"301.0\" y2=\"250.0\" stroke-linecap=\"round\" style=\"stroke:blue;stroke-width:4\"/><line x1=\"300\" y1=\"300\" x2=\"301.0\" y2=\"300.0\" stroke-linecap=\"round\" style=\"stroke:yellow;stroke-width:4\"/><line x1=\"300\" y1=\"350\" x2=\"301.0\" y2=\"350.0\" stroke-linecap=\"round\" style=\"stroke:violet;stroke-width:4\"/><line x1=\"300\" y1=\"400\" x2=\"301.0\" y2=\"400.0\" stroke-linecap=\"round\" style=\"stroke:red;stroke-width:4\"/><line x1=\"300\" y1=\"450\" x2=\"301.0\" y2=\"450.0\" stroke-linecap=\"round\" style=\"stroke:blue;stroke-width:4\"/><line x1=\"300\" y1=\"500\" x2=\"301.0\" y2=\"500.0\" stroke-linecap=\"round\" style=\"stroke:red;stroke-width:4\"/><line x1=\"300\" y1=\"550\" x2=\"301.0\" y2=\"550.0\" stroke-linecap=\"round\" style=\"stroke:blue;stroke-width:4\"/><line x1=\"300\" y1=\"600\" x2=\"301.0\" y2=\"600.0\" stroke-linecap=\"round\" style=\"stroke:yellow;stroke-width:4\"/><line x1=\"300\" y1=\"650\" x2=\"301.0\" y2=\"650.0\" stroke-linecap=\"round\" style=\"stroke:violet;stroke-width:4\"/><line x1=\"300\" y1=\"700\" x2=\"301.0\" y2=\"700.0\" stroke-linecap=\"round\" style=\"stroke:blue;stroke-width:4\"/><line x1=\"300\" y1=\"750\" x2=\"301.0\" y2=\"750.0\" stroke-linecap=\"round\" style=\"stroke:blue;stroke-width:4\"/><line x1=\"350\" y1=\"50\" x2=\"351.0\" y2=\"50.0\" stroke-linecap=\"round\" style=\"stroke:yellow;stroke-width:4\"/><line x1=\"350\" y1=\"100\" x2=\"351.0\" y2=\"100.0\" stroke-linecap=\"round\" style=\"stroke:yellow;stroke-width:4\"/><line x1=\"350\" y1=\"150\" x2=\"351.0\" y2=\"150.0\" stroke-linecap=\"round\" style=\"stroke:blue;stroke-width:4\"/><line x1=\"350\" y1=\"200\" x2=\"351.0\" y2=\"200.0\" stroke-linecap=\"round\" style=\"stroke:green;stroke-width:4\"/><line x1=\"350\" y1=\"250\" x2=\"351.0\" y2=\"250.0\" stroke-linecap=\"round\" style=\"stroke:red;stroke-width:4\"/><line x1=\"350\" y1=\"300\" x2=\"351.0\" y2=\"300.0\" stroke-linecap=\"round\" style=\"stroke:red;stroke-width:4\"/><line x1=\"350\" y1=\"350\" x2=\"351.0\" y2=\"350.0\" stroke-linecap=\"round\" style=\"stroke:green;stroke-width:4\"/><line x1=\"350\" y1=\"400\" x2=\"351.0\" y2=\"400.0\" stroke-linecap=\"round\" style=\"stroke:violet;stroke-width:4\"/><line x1=\"350\" y1=\"450\" x2=\"351.0\" y2=\"450.0\" stroke-linecap=\"round\" style=\"stroke:red;stroke-width:4\"/><line x1=\"350\" y1=\"500\" x2=\"351.0\" y2=\"500.0\" stroke-linecap=\"round\" style=\"stroke:yellow;stroke-width:4\"/><line x1=\"350\" y1=\"550\" x2=\"351.0\" y2=\"550.0\" stroke-linecap=\"round\" style=\"stroke:yellow;stroke-width:4\"/><line x1=\"350\" y1=\"600\" x2=\"351.0\" y2=\"600.0\" stroke-linecap=\"round\" style=\"stroke:red;stroke-width:4\"/><line x1=\"350\" y1=\"650\" x2=\"351.0\" y2=\"650.0\" stroke-linecap=\"round\" style=\"stroke:yellow;stroke-width:4\"/><line x1=\"350\" y1=\"700\" x2=\"351.0\" y2=\"700.0\" stroke-linecap=\"round\" style=\"stroke:violet;stroke-width:4\"/><line x1=\"350\" y1=\"750\" x2=\"351.0\" y2=\"750.0\" stroke-linecap=\"round\" style=\"stroke:red;stroke-width:4\"/><line x1=\"400\" y1=\"50\" x2=\"401.0\" y2=\"50.0\" stroke-linecap=\"round\" style=\"stroke:violet;stroke-width:4\"/><line x1=\"400\" y1=\"100\" x2=\"401.0\" y2=\"100.0\" stroke-linecap=\"round\" style=\"stroke:yellow;stroke-width:4\"/><line x1=\"400\" y1=\"150\" x2=\"401.0\" y2=\"150.0\" stroke-linecap=\"round\" style=\"stroke:red;stroke-width:4\"/><line x1=\"400\" y1=\"200\" x2=\"401.0\" y2=\"200.0\" stroke-linecap=\"round\" style=\"stroke:green;stroke-width:4\"/><line x1=\"400\" y1=\"250\" x2=\"401.0\" y2=\"250.0\" stroke-linecap=\"round\" style=\"stroke:green;stroke-width:4\"/><line x1=\"400\" y1=\"300\" x2=\"401.0\" y2=\"300.0\" stroke-linecap=\"round\" style=\"stroke:blue;stroke-width:4\"/><line x1=\"400\" y1=\"350\" x2=\"401.0\" y2=\"350.0\" stroke-linecap=\"round\" style=\"stroke:violet;stroke-width:4\"/><line x1=\"400\" y1=\"400\" x2=\"401.0\" y2=\"400.0\" stroke-linecap=\"round\" style=\"stroke:red;stroke-width:4\"/><line x1=\"400\" y1=\"450\" x2=\"401.0\" y2=\"450.0\" stroke-linecap=\"round\" style=\"stroke:yellow;stroke-width:4\"/><line x1=\"400\" y1=\"500\" x2=\"401.0\" y2=\"500.0\" stroke-linecap=\"round\" style=\"stroke:yellow;stroke-width:4\"/><line x1=\"400\" y1=\"550\" x2=\"401.0\" y2=\"550.0\" stroke-linecap=\"round\" style=\"stroke:violet;stroke-width:4\"/><line x1=\"400\" y1=\"600\" x2=\"401.0\" y2=\"600.0\" stroke-linecap=\"round\" style=\"stroke:green;stroke-width:4\"/><line x1=\"400\" y1=\"650\" x2=\"401.0\" y2=\"650.0\" stroke-linecap=\"round\" style=\"stroke:blue;stroke-width:4\"/><line x1=\"400\" y1=\"700\" x2=\"401.0\" y2=\"700.0\" stroke-linecap=\"round\" style=\"stroke:yellow;stroke-width:4\"/><line x1=\"400\" y1=\"750\" x2=\"401.0\" y2=\"750.0\" stroke-linecap=\"round\" style=\"stroke:green;stroke-width:4\"/><line x1=\"450\" y1=\"50\" x2=\"451.0\" y2=\"50.0\" stroke-linecap=\"round\" style=\"stroke:violet;stroke-width:4\"/><line x1=\"450\" y1=\"100\" x2=\"451.0\" y2=\"100.0\" stroke-linecap=\"round\" style=\"stroke:blue;stroke-width:4\"/><line x1=\"450\" y1=\"150\" x2=\"451.0\" y2=\"150.0\" stroke-linecap=\"round\" style=\"stroke:green;stroke-width:4\"/><line x1=\"450\" y1=\"200\" x2=\"451.0\" y2=\"200.0\" stroke-linecap=\"round\" style=\"stroke:green;stroke-width:4\"/><line x1=\"450\" y1=\"250\" x2=\"451.0\" y2=\"250.0\" stroke-linecap=\"round\" style=\"stroke:blue;stroke-width:4\"/><line x1=\"450\" y1=\"300\" x2=\"451.0\" y2=\"300.0\" stroke-linecap=\"round\" style=\"stroke:green;stroke-width:4\"/><line x1=\"450\" y1=\"350\" x2=\"451.0\" y2=\"350.0\" stroke-linecap=\"round\" style=\"stroke:green;stroke-width:4\"/><line x1=\"450\" y1=\"400\" x2=\"451.0\" y2=\"400.0\" stroke-linecap=\"round\" style=\"stroke:violet;stroke-width:4\"/><line x1=\"450\" y1=\"450\" x2=\"451.0\" y2=\"450.0\" stroke-linecap=\"round\" style=\"stroke:green;stroke-width:4\"/><line x1=\"450\" y1=\"500\" x2=\"451.0\" y2=\"500.0\" stroke-linecap=\"round\" style=\"stroke:green;stroke-width:4\"/><line x1=\"450\" y1=\"550\" x2=\"451.0\" y2=\"550.0\" stroke-linecap=\"round\" style=\"stroke:green;stroke-width:4\"/><line x1=\"450\" y1=\"600\" x2=\"451.0\" y2=\"600.0\" stroke-linecap=\"round\" style=\"stroke:green;stroke-width:4\"/><line x1=\"450\" y1=\"650\" x2=\"451.0\" y2=\"650.0\" stroke-linecap=\"round\" style=\"stroke:green;stroke-width:4\"/><line x1=\"450\" y1=\"700\" x2=\"451.0\" y2=\"700.0\" stroke-linecap=\"round\" style=\"stroke:violet;stroke-width:4\"/><line x1=\"450\" y1=\"750\" x2=\"451.0\" y2=\"750.0\" stroke-linecap=\"round\" style=\"stroke:red;stroke-width:4\"/><line x1=\"500\" y1=\"50\" x2=\"501.0\" y2=\"50.0\" stroke-linecap=\"round\" style=\"stroke:green;stroke-width:4\"/><line x1=\"500\" y1=\"100\" x2=\"501.0\" y2=\"100.0\" stroke-linecap=\"round\" style=\"stroke:violet;stroke-width:4\"/><line x1=\"500\" y1=\"150\" x2=\"501.0\" y2=\"150.0\" stroke-linecap=\"round\" style=\"stroke:green;stroke-width:4\"/><line x1=\"500\" y1=\"200\" x2=\"501.0\" y2=\"200.0\" stroke-linecap=\"round\" style=\"stroke:red;stroke-width:4\"/><line x1=\"500\" y1=\"250\" x2=\"501.0\" y2=\"250.0\" stroke-linecap=\"round\" style=\"stroke:red;stroke-width:4\"/><line x1=\"500\" y1=\"300\" x2=\"501.0\" y2=\"300.0\" stroke-linecap=\"round\" style=\"stroke:violet;stroke-width:4\"/><line x1=\"500\" y1=\"350\" x2=\"501.0\" y2=\"350.0\" stroke-linecap=\"round\" style=\"stroke:red;stroke-width:4\"/><line x1=\"500\" y1=\"400\" x2=\"501.0\" y2=\"400.0\" stroke-linecap=\"round\" style=\"stroke:blue;stroke-width:4\"/><line x1=\"500\" y1=\"450\" x2=\"501.0\" y2=\"450.0\" stroke-linecap=\"round\" style=\"stroke:yellow;stroke-width:4\"/><line x1=\"500\" y1=\"500\" x2=\"501.0\" y2=\"500.0\" stroke-linecap=\"round\" style=\"stroke:violet;stroke-width:4\"/><line x1=\"500\" y1=\"550\" x2=\"501.0\" y2=\"550.0\" stroke-linecap=\"round\" style=\"stroke:red;stroke-width:4\"/><line x1=\"500\" y1=\"600\" x2=\"501.0\" y2=\"600.0\" stroke-linecap=\"round\" style=\"stroke:red;stroke-width:4\"/><line x1=\"500\" y1=\"650\" x2=\"501.0\" y2=\"650.0\" stroke-linecap=\"round\" style=\"stroke:yellow;stroke-width:4\"/><line x1=\"500\" y1=\"700\" x2=\"501.0\" y2=\"700.0\" stroke-linecap=\"round\" style=\"stroke:violet;stroke-width:4\"/><line x1=\"500\" y1=\"750\" x2=\"501.0\" y2=\"750.0\" stroke-linecap=\"round\" style=\"stroke:yellow;stroke-width:4\"/><line x1=\"550\" y1=\"50\" x2=\"551.0\" y2=\"50.0\" stroke-linecap=\"round\" style=\"stroke:red;stroke-width:4\"/><line x1=\"550\" y1=\"100\" x2=\"551.0\" y2=\"100.0\" stroke-linecap=\"round\" style=\"stroke:green;stroke-width:4\"/><line x1=\"550\" y1=\"150\" x2=\"551.0\" y2=\"150.0\" stroke-linecap=\"round\" style=\"stroke:violet;stroke-width:4\"/><line x1=\"550\" y1=\"200\" x2=\"551.0\" y2=\"200.0\" stroke-linecap=\"round\" style=\"stroke:yellow;stroke-width:4\"/><line x1=\"550\" y1=\"250\" x2=\"551.0\" y2=\"250.0\" stroke-linecap=\"round\" style=\"stroke:violet;stroke-width:4\"/><line x1=\"550\" y1=\"300\" x2=\"551.0\" y2=\"300.0\" stroke-linecap=\"round\" style=\"stroke:yellow;stroke-width:4\"/><line x1=\"550\" y1=\"350\" x2=\"551.0\" y2=\"350.0\" stroke-linecap=\"round\" style=\"stroke:blue;stroke-width:4\"/><line x1=\"550\" y1=\"400\" x2=\"551.0\" y2=\"400.0\" stroke-linecap=\"round\" style=\"stroke:yellow;stroke-width:4\"/><line x1=\"550\" y1=\"450\" x2=\"551.0\" y2=\"450.0\" stroke-linecap=\"round\" style=\"stroke:green;stroke-width:4\"/><line x1=\"550\" y1=\"500\" x2=\"551.0\" y2=\"500.0\" stroke-linecap=\"round\" style=\"stroke:red;stroke-width:4\"/><line x1=\"550\" y1=\"550\" x2=\"551.0\" y2=\"550.0\" stroke-linecap=\"round\" style=\"stroke:red;stroke-width:4\"/><line x1=\"550\" y1=\"600\" x2=\"551.0\" y2=\"600.0\" stroke-linecap=\"round\" style=\"stroke:green;stroke-width:4\"/><line x1=\"550\" y1=\"650\" x2=\"551.0\" y2=\"650.0\" stroke-linecap=\"round\" style=\"stroke:green;stroke-width:4\"/><line x1=\"550\" y1=\"700\" x2=\"551.0\" y2=\"700.0\" stroke-linecap=\"round\" style=\"stroke:blue;stroke-width:4\"/><line x1=\"550\" y1=\"750\" x2=\"551.0\" y2=\"750.0\" stroke-linecap=\"round\" style=\"stroke:green;stroke-width:4\"/><line x1=\"600\" y1=\"50\" x2=\"601.0\" y2=\"50.0\" stroke-linecap=\"round\" style=\"stroke:yellow;stroke-width:4\"/><line x1=\"600\" y1=\"100\" x2=\"601.0\" y2=\"100.0\" stroke-linecap=\"round\" style=\"stroke:violet;stroke-width:4\"/><line x1=\"600\" y1=\"150\" x2=\"601.0\" y2=\"150.0\" stroke-linecap=\"round\" style=\"stroke:yellow;stroke-width:4\"/><line x1=\"600\" y1=\"200\" x2=\"601.0\" y2=\"200.0\" stroke-linecap=\"round\" style=\"stroke:green;stroke-width:4\"/><line x1=\"600\" y1=\"250\" x2=\"601.0\" y2=\"250.0\" stroke-linecap=\"round\" style=\"stroke:violet;stroke-width:4\"/><line x1=\"600\" y1=\"300\" x2=\"601.0\" y2=\"300.0\" stroke-linecap=\"round\" style=\"stroke:yellow;stroke-width:4\"/><line x1=\"600\" y1=\"350\" x2=\"601.0\" y2=\"350.0\" stroke-linecap=\"round\" style=\"stroke:violet;stroke-width:4\"/><line x1=\"600\" y1=\"400\" x2=\"601.0\" y2=\"400.0\" stroke-linecap=\"round\" style=\"stroke:violet;stroke-width:4\"/><line x1=\"600\" y1=\"450\" x2=\"601.0\" y2=\"450.0\" stroke-linecap=\"round\" style=\"stroke:blue;stroke-width:4\"/><line x1=\"600\" y1=\"500\" x2=\"601.0\" y2=\"500.0\" stroke-linecap=\"round\" style=\"stroke:yellow;stroke-width:4\"/><line x1=\"600\" y1=\"550\" x2=\"601.0\" y2=\"550.0\" stroke-linecap=\"round\" style=\"stroke:green;stroke-width:4\"/><line x1=\"600\" y1=\"600\" x2=\"601.0\" y2=\"600.0\" stroke-linecap=\"round\" style=\"stroke:red;stroke-width:4\"/><line x1=\"600\" y1=\"650\" x2=\"601.0\" y2=\"650.0\" stroke-linecap=\"round\" style=\"stroke:red;stroke-width:4\"/><line x1=\"600\" y1=\"700\" x2=\"601.0\" y2=\"700.0\" stroke-linecap=\"round\" style=\"stroke:red;stroke-width:4\"/><line x1=\"600\" y1=\"750\" x2=\"601.0\" y2=\"750.0\" stroke-linecap=\"round\" style=\"stroke:red;stroke-width:4\"/><line x1=\"650\" y1=\"50\" x2=\"651.0\" y2=\"50.0\" stroke-linecap=\"round\" style=\"stroke:yellow;stroke-width:4\"/><line x1=\"650\" y1=\"100\" x2=\"651.0\" y2=\"100.0\" stroke-linecap=\"round\" style=\"stroke:yellow;stroke-width:4\"/><line x1=\"650\" y1=\"150\" x2=\"651.0\" y2=\"150.0\" stroke-linecap=\"round\" style=\"stroke:yellow;stroke-width:4\"/><line x1=\"650\" y1=\"200\" x2=\"651.0\" y2=\"200.0\" stroke-linecap=\"round\" style=\"stroke:violet;stroke-width:4\"/><line x1=\"650\" y1=\"250\" x2=\"651.0\" y2=\"250.0\" stroke-linecap=\"round\" style=\"stroke:yellow;stroke-width:4\"/><line x1=\"650\" y1=\"300\" x2=\"651.0\" y2=\"300.0\" stroke-linecap=\"round\" style=\"stroke:violet;stroke-width:4\"/><line x1=\"650\" y1=\"350\" x2=\"651.0\" y2=\"350.0\" stroke-linecap=\"round\" style=\"stroke:yellow;stroke-width:4\"/><line x1=\"650\" y1=\"400\" x2=\"651.0\" y2=\"400.0\" stroke-linecap=\"round\" style=\"stroke:green;stroke-width:4\"/><line x1=\"650\" y1=\"450\" x2=\"651.0\" y2=\"450.0\" stroke-linecap=\"round\" style=\"stroke:violet;stroke-width:4\"/><line x1=\"650\" y1=\"500\" x2=\"651.0\" y2=\"500.0\" stroke-linecap=\"round\" style=\"stroke:red;stroke-width:4\"/><line x1=\"650\" y1=\"550\" x2=\"651.0\" y2=\"550.0\" stroke-linecap=\"round\" style=\"stroke:red;stroke-width:4\"/><line x1=\"650\" y1=\"600\" x2=\"651.0\" y2=\"600.0\" stroke-linecap=\"round\" style=\"stroke:red;stroke-width:4\"/><line x1=\"650\" y1=\"650\" x2=\"651.0\" y2=\"650.0\" stroke-linecap=\"round\" style=\"stroke:blue;stroke-width:4\"/><line x1=\"650\" y1=\"700\" x2=\"651.0\" y2=\"700.0\" stroke-linecap=\"round\" style=\"stroke:blue;stroke-width:4\"/><line x1=\"650\" y1=\"750\" x2=\"651.0\" y2=\"750.0\" stroke-linecap=\"round\" style=\"stroke:green;stroke-width:4\"/><line x1=\"700\" y1=\"50\" x2=\"701.0\" y2=\"50.0\" stroke-linecap=\"round\" style=\"stroke:violet;stroke-width:4\"/><line x1=\"700\" y1=\"100\" x2=\"701.0\" y2=\"100.0\" stroke-linecap=\"round\" style=\"stroke:green;stroke-width:4\"/><line x1=\"700\" y1=\"150\" x2=\"701.0\" y2=\"150.0\" stroke-linecap=\"round\" style=\"stroke:red;stroke-width:4\"/><line x1=\"700\" y1=\"200\" x2=\"701.0\" y2=\"200.0\" stroke-linecap=\"round\" style=\"stroke:blue;stroke-width:4\"/><line x1=\"700\" y1=\"250\" x2=\"701.0\" y2=\"250.0\" stroke-linecap=\"round\" style=\"stroke:violet;stroke-width:4\"/><line x1=\"700\" y1=\"300\" x2=\"701.0\" y2=\"300.0\" stroke-linecap=\"round\" style=\"stroke:violet;stroke-width:4\"/><line x1=\"700\" y1=\"350\" x2=\"701.0\" y2=\"350.0\" stroke-linecap=\"round\" style=\"stroke:red;stroke-width:4\"/><line x1=\"700\" y1=\"400\" x2=\"701.0\" y2=\"400.0\" stroke-linecap=\"round\" style=\"stroke:green;stroke-width:4\"/><line x1=\"700\" y1=\"450\" x2=\"701.0\" y2=\"450.0\" stroke-linecap=\"round\" style=\"stroke:green;stroke-width:4\"/><line x1=\"700\" y1=\"500\" x2=\"701.0\" y2=\"500.0\" stroke-linecap=\"round\" style=\"stroke:yellow;stroke-width:4\"/><line x1=\"700\" y1=\"550\" x2=\"701.0\" y2=\"550.0\" stroke-linecap=\"round\" style=\"stroke:green;stroke-width:4\"/><line x1=\"700\" y1=\"600\" x2=\"701.0\" y2=\"600.0\" stroke-linecap=\"round\" style=\"stroke:yellow;stroke-width:4\"/><line x1=\"700\" y1=\"650\" x2=\"701.0\" y2=\"650.0\" stroke-linecap=\"round\" style=\"stroke:blue;stroke-width:4\"/><line x1=\"700\" y1=\"700\" x2=\"701.0\" y2=\"700.0\" stroke-linecap=\"round\" style=\"stroke:red;stroke-width:4\"/><line x1=\"700\" y1=\"750\" x2=\"701.0\" y2=\"750.0\" stroke-linecap=\"round\" style=\"stroke:yellow;stroke-width:4\"/><line x1=\"750\" y1=\"50\" x2=\"751.0\" y2=\"50.0\" stroke-linecap=\"round\" style=\"stroke:green;stroke-width:4\"/><line x1=\"750\" y1=\"100\" x2=\"751.0\" y2=\"100.0\" stroke-linecap=\"round\" style=\"stroke:blue;stroke-width:4\"/><line x1=\"750\" y1=\"150\" x2=\"751.0\" y2=\"150.0\" stroke-linecap=\"round\" style=\"stroke:blue;stroke-width:4\"/><line x1=\"750\" y1=\"200\" x2=\"751.0\" y2=\"200.0\" stroke-linecap=\"round\" style=\"stroke:green;stroke-width:4\"/><line x1=\"750\" y1=\"250\" x2=\"751.0\" y2=\"250.0\" stroke-linecap=\"round\" style=\"stroke:violet;stroke-width:4\"/><line x1=\"750\" y1=\"300\" x2=\"751.0\" y2=\"300.0\" stroke-linecap=\"round\" style=\"stroke:blue;stroke-width:4\"/><line x1=\"750\" y1=\"350\" x2=\"751.0\" y2=\"350.0\" stroke-linecap=\"round\" style=\"stroke:red;stroke-width:4\"/><line x1=\"750\" y1=\"400\" x2=\"751.0\" y2=\"400.0\" stroke-linecap=\"round\" style=\"stroke:yellow;stroke-width:4\"/><line x1=\"750\" y1=\"450\" x2=\"751.0\" y2=\"450.0\" stroke-linecap=\"round\" style=\"stroke:yellow;stroke-width:4\"/><line x1=\"750\" y1=\"500\" x2=\"751.0\" y2=\"500.0\" stroke-linecap=\"round\" style=\"stroke:blue;stroke-width:4\"/><line x1=\"750\" y1=\"550\" x2=\"751.0\" y2=\"550.0\" stroke-linecap=\"round\" style=\"stroke:red;stroke-width:4\"/><line x1=\"750\" y1=\"600\" x2=\"751.0\" y2=\"600.0\" stroke-linecap=\"round\" style=\"stroke:blue;stroke-width:4\"/><line x1=\"750\" y1=\"650\" x2=\"751.0\" y2=\"650.0\" stroke-linecap=\"round\" style=\"stroke:blue;stroke-width:4\"/><line x1=\"750\" y1=\"700\" x2=\"751.0\" y2=\"700.0\" stroke-linecap=\"round\" style=\"stroke:violet;stroke-width:4\"/><line x1=\"750\" y1=\"750\" x2=\"751.0\" y2=\"750.0\" stroke-linecap=\"round\" style=\"stroke:green;stroke-width:4\"/>\n",
              "        <g visibility=visible transform=\"rotate(90,751.0,750.0) translate(733.0, 732.0)\">\n",
              "<path style=\" stroke:none;fill-rule:evenodd;fill:green;fill-opacity:1;\" d=\"M 18.214844 0.632812 C 16.109375 1.800781 15.011719 4.074219 15.074219 7.132812 L 15.085938 7.652344 L 14.785156 7.496094 C 13.476562 6.824219 11.957031 6.671875 10.40625 7.066406 C 8.46875 7.550781 6.515625 9.15625 4.394531 11.992188 C 3.0625 13.777344 2.679688 14.636719 3.042969 15.027344 L 3.15625 15.152344 L 3.519531 15.152344 C 4.238281 15.152344 4.828125 14.886719 8.1875 13.039062 C 9.386719 12.378906 10.371094 11.839844 10.378906 11.839844 C 10.386719 11.839844 10.355469 11.929688 10.304688 12.035156 C 9.832031 13.09375 9.257812 14.820312 8.96875 16.078125 C 7.914062 20.652344 8.617188 24.53125 11.070312 27.660156 C 11.351562 28.015625 11.363281 27.914062 10.972656 28.382812 C 8.925781 30.84375 7.945312 33.28125 8.238281 35.1875 C 8.289062 35.527344 8.28125 35.523438 8.917969 35.523438 C 10.941406 35.523438 13.074219 34.207031 15.136719 31.6875 C 15.359375 31.417969 15.328125 31.425781 15.5625 31.574219 C 16.292969 32.042969 18.023438 32.964844 18.175781 32.964844 C 18.335938 32.964844 19.941406 32.210938 20.828125 31.71875 C 20.996094 31.625 21.136719 31.554688 21.136719 31.558594 C 21.203125 31.664062 21.898438 32.414062 22.222656 32.730469 C 23.835938 34.300781 25.5625 35.132812 27.582031 35.300781 C 27.90625 35.328125 27.9375 35.308594 28.007812 34.984375 C 28.382812 33.242188 27.625 30.925781 25.863281 28.425781 L 25.542969 27.96875 L 25.699219 27.785156 C 28.945312 23.960938 29.132812 18.699219 26.257812 11.96875 L 26.207031 11.84375 L 27.945312 12.703125 C 31.53125 14.476562 32.316406 14.800781 33.03125 14.800781 C 33.976562 14.800781 33.78125 13.9375 32.472656 12.292969 C 28.519531 7.355469 25.394531 5.925781 21.921875 7.472656 L 21.558594 7.636719 L 21.578125 7.542969 C 21.699219 6.992188 21.761719 5.742188 21.699219 5.164062 C 21.496094 3.296875 20.664062 1.964844 19.003906 0.855469 C 18.480469 0.503906 18.457031 0.5 18.214844 0.632812\"/>\n",
              "</g>\n",
              "      </svg>\n",
              "    "
            ]
          },
          "metadata": {}
        }
      ]
    }
  ]
}