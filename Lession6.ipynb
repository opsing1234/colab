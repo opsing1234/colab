{
  "nbformat": 4,
  "nbformat_minor": 0,
  "metadata": {
    "colab": {
      "provenance": [],
      "authorship_tag": "ABX9TyN1xptQ2xvYKQM7O+fVpxsx",
      "include_colab_link": true
    },
    "kernelspec": {
      "name": "python3",
      "display_name": "Python 3"
    },
    "language_info": {
      "name": "python"
    }
  },
  "cells": [
    {
      "cell_type": "markdown",
      "metadata": {
        "id": "view-in-github",
        "colab_type": "text"
      },
      "source": [
        "<a href=\"https://colab.research.google.com/github/opsing1234/colab/blob/main/Lession6.ipynb\" target=\"_parent\"><img src=\"https://colab.research.google.com/assets/colab-badge.svg\" alt=\"Open In Colab\"/></a>"
      ]
    },
    {
      "cell_type": "markdown",
      "source": [
        "6장 예제"
      ],
      "metadata": {
        "id": "HukcKvmQuyCO"
      }
    },
    {
      "cell_type": "code",
      "execution_count": null,
      "metadata": {
        "colab": {
          "base_uri": "https://localhost:8080/"
        },
        "id": "QI1kq_ynuhoj",
        "outputId": "f19c1182-d8b9-4704-c41f-73cd1085dad1"
      },
      "outputs": [
        {
          "output_type": "stream",
          "name": "stdout",
          "text": [
            "난생처음 파이썬은 재미있습니다 0\n",
            "난생처음 파이썬은 재미있습니다 1\n",
            "난생처음 파이썬은 재미있습니다 2\n"
          ]
        }
      ],
      "source": [
        "for i in range(3) :\n",
        "  print('난생처음 파이썬은 재미있습니다',i)"
      ]
    },
    {
      "cell_type": "code",
      "source": [
        "List = ['짜장면', '김밥', '라면']\n",
        "for i in List :\n",
        "  print(i)"
      ],
      "metadata": {
        "colab": {
          "base_uri": "https://localhost:8080/"
        },
        "id": "Us7eCabTwPs9",
        "outputId": "f27d27ab-e6a8-495f-8ce7-0ab72bff455f"
      },
      "execution_count": null,
      "outputs": [
        {
          "output_type": "stream",
          "name": "stdout",
          "text": [
            "짜장면\n",
            "김밥\n",
            "라면\n"
          ]
        }
      ]
    },
    {
      "cell_type": "code",
      "source": [
        "for i in range(2, 8, 2) :\n",
        "  print(i)"
      ],
      "metadata": {
        "colab": {
          "base_uri": "https://localhost:8080/"
        },
        "id": "DmtQJ-zixFVt",
        "outputId": "c9b35cf7-b9c9-48c2-a385-32d1f00e2bc8"
      },
      "execution_count": null,
      "outputs": [
        {
          "output_type": "stream",
          "name": "stdout",
          "text": [
            "2\n",
            "4\n",
            "6\n"
          ]
        }
      ]
    },
    {
      "cell_type": "markdown",
      "source": [
        "sum = 1 + 3 + 5 + 7 + 9...... + 99"
      ],
      "metadata": {
        "id": "s8MVE-4Qxx8M"
      }
    },
    {
      "cell_type": "code",
      "source": [
        "sum = 0\n",
        "for i in range(1, 100, 2):\n",
        "  sum += i\n",
        "  print(sum)"
      ],
      "metadata": {
        "colab": {
          "base_uri": "https://localhost:8080/"
        },
        "id": "JIfcW32KxKmt",
        "outputId": "faa7ef96-89b0-497d-a887-de669a05ecb6"
      },
      "execution_count": null,
      "outputs": [
        {
          "output_type": "stream",
          "name": "stdout",
          "text": [
            "1\n",
            "4\n",
            "9\n",
            "16\n",
            "25\n",
            "36\n",
            "49\n",
            "64\n",
            "81\n",
            "100\n",
            "121\n",
            "144\n",
            "169\n",
            "196\n",
            "225\n",
            "256\n",
            "289\n",
            "324\n",
            "361\n",
            "400\n",
            "441\n",
            "484\n",
            "529\n",
            "576\n",
            "625\n",
            "676\n",
            "729\n",
            "784\n",
            "841\n",
            "900\n",
            "961\n",
            "1024\n",
            "1089\n",
            "1156\n",
            "1225\n",
            "1296\n",
            "1369\n",
            "1444\n",
            "1521\n",
            "1600\n",
            "1681\n",
            "1764\n",
            "1849\n",
            "1936\n",
            "2025\n",
            "2116\n",
            "2209\n",
            "2304\n",
            "2401\n",
            "2500\n"
          ]
        }
      ]
    },
    {
      "cell_type": "markdown",
      "source": [
        "sum = 1 - 3 + 5 - 7 + 9 - 11...... + 99"
      ],
      "metadata": {
        "id": "fhTsVLqZyBpN"
      }
    },
    {
      "cell_type": "code",
      "source": [
        "num = 1\n",
        "sum = 0\n",
        "for i  in range(1, 100, 2):\n",
        "  if num == 1 :\n",
        "    sum += i\n",
        "    num = num * - 1\n",
        "  else :\n",
        "    sum -= i\n",
        "    num = num * - 1\n",
        "print(sum)"
      ],
      "metadata": {
        "colab": {
          "base_uri": "https://localhost:8080/"
        },
        "id": "u08BXgiLx_lW",
        "outputId": "8f9fe7c0-fdb8-486e-9717-46d30509dd54"
      },
      "execution_count": null,
      "outputs": [
        {
          "output_type": "stream",
          "name": "stdout",
          "text": [
            "-50\n"
          ]
        }
      ]
    },
    {
      "cell_type": "markdown",
      "source": [
        "형성평가 1번"
      ],
      "metadata": {
        "id": "Ye7HgJsJz2hN"
      }
    },
    {
      "cell_type": "code",
      "source": [
        "num1 = 1\n",
        "num2 = 5\n",
        "for i in range(1,num2 + 1,1) :\n",
        " num1 *= i\n",
        "print('A, B, C, D, E 학생들을 순서대로 세우는 경우의 수 : ', num1)"
      ],
      "metadata": {
        "colab": {
          "base_uri": "https://localhost:8080/"
        },
        "id": "LGfG0YESz2OF",
        "outputId": "23045374-0da0-4eae-f4c0-bb54b8b62bd7"
      },
      "execution_count": null,
      "outputs": [
        {
          "output_type": "stream",
          "name": "stdout",
          "text": [
            "A, B, C, D, E 학생들을 순서대로 세우는 경우의 수 :  120\n"
          ]
        }
      ]
    },
    {
      "cell_type": "code",
      "source": [
        "hap = 0\n",
        "\n",
        "for i in range(1, 11, 1) :\n",
        "  hap += i\n",
        "print('1에서 10까지의 합 : ', hap)"
      ],
      "metadata": {
        "colab": {
          "base_uri": "https://localhost:8080/"
        },
        "id": "l3vLeHMR1uJd",
        "outputId": "293c9417-46f6-4258-d607-b268247391f8"
      },
      "execution_count": null,
      "outputs": [
        {
          "output_type": "stream",
          "name": "stdout",
          "text": [
            "1에서 10까지의 합 :  55\n"
          ]
        }
      ]
    },
    {
      "cell_type": "code",
      "source": [
        "i, hap = 0, 0\n",
        "\n",
        "for i in range(1001, 2001, 2) :\n",
        "  hap += i\n",
        "print('1000에서 2000까지의 홀수의 합 : ', hap)"
      ],
      "metadata": {
        "colab": {
          "base_uri": "https://localhost:8080/"
        },
        "id": "_VRXwuh62Zat",
        "outputId": "f3b21e5d-7e65-48ba-fa12-46217976c28e"
      },
      "execution_count": null,
      "outputs": [
        {
          "output_type": "stream",
          "name": "stdout",
          "text": [
            "1000에서 2000까지의 홀수의 합 :  750000\n"
          ]
        }
      ]
    },
    {
      "cell_type": "code",
      "source": [
        "for i in range(3) :\n",
        "  for j in range(2) :\n",
        "    print('난생처음은 쉽습니다 (i값 : ', i, ', j값 : ', j,')')"
      ],
      "metadata": {
        "colab": {
          "base_uri": "https://localhost:8080/"
        },
        "id": "DY_NFUe03WDs",
        "outputId": "5af3e079-7535-4bb7-ebd2-02a84e6fd417"
      },
      "execution_count": null,
      "outputs": [
        {
          "output_type": "stream",
          "name": "stdout",
          "text": [
            "난생처음은 쉽습니다 (i값 :  0 , j값 :  0 )\n",
            "난생처음은 쉽습니다 (i값 :  0 , j값 :  1 )\n",
            "난생처음은 쉽습니다 (i값 :  1 , j값 :  0 )\n",
            "난생처음은 쉽습니다 (i값 :  1 , j값 :  1 )\n",
            "난생처음은 쉽습니다 (i값 :  2 , j값 :  0 )\n",
            "난생처음은 쉽습니다 (i값 :  2 , j값 :  1 )\n"
          ]
        }
      ]
    },
    {
      "cell_type": "markdown",
      "source": [
        "형성평가 2번"
      ],
      "metadata": {
        "id": "rRkmKgDb-2q8"
      }
    },
    {
      "cell_type": "code",
      "source": [
        "for i in range(2, 10) :\n",
        "  for j in range(1, 10) :\n",
        "    result = i * j\n",
        "    print(i, 'X', j, '=', result)"
      ],
      "metadata": {
        "colab": {
          "base_uri": "https://localhost:8080/"
        },
        "id": "u7mcaMF84SvV",
        "outputId": "39c0b884-3309-498f-c33f-88f82452f8cc"
      },
      "execution_count": null,
      "outputs": [
        {
          "output_type": "stream",
          "name": "stdout",
          "text": [
            "2 X 1 = 2\n",
            "2 X 2 = 4\n",
            "2 X 3 = 6\n",
            "2 X 4 = 8\n",
            "2 X 5 = 10\n",
            "2 X 6 = 12\n",
            "2 X 7 = 14\n",
            "2 X 8 = 16\n",
            "2 X 9 = 18\n",
            "3 X 1 = 3\n",
            "3 X 2 = 6\n",
            "3 X 3 = 9\n",
            "3 X 4 = 12\n",
            "3 X 5 = 15\n",
            "3 X 6 = 18\n",
            "3 X 7 = 21\n",
            "3 X 8 = 24\n",
            "3 X 9 = 27\n",
            "4 X 1 = 4\n",
            "4 X 2 = 8\n",
            "4 X 3 = 12\n",
            "4 X 4 = 16\n",
            "4 X 5 = 20\n",
            "4 X 6 = 24\n",
            "4 X 7 = 28\n",
            "4 X 8 = 32\n",
            "4 X 9 = 36\n",
            "5 X 1 = 5\n",
            "5 X 2 = 10\n",
            "5 X 3 = 15\n",
            "5 X 4 = 20\n",
            "5 X 5 = 25\n",
            "5 X 6 = 30\n",
            "5 X 7 = 35\n",
            "5 X 8 = 40\n",
            "5 X 9 = 45\n",
            "6 X 1 = 6\n",
            "6 X 2 = 12\n",
            "6 X 3 = 18\n",
            "6 X 4 = 24\n",
            "6 X 5 = 30\n",
            "6 X 6 = 36\n",
            "6 X 7 = 42\n",
            "6 X 8 = 48\n",
            "6 X 9 = 54\n",
            "7 X 1 = 7\n",
            "7 X 2 = 14\n",
            "7 X 3 = 21\n",
            "7 X 4 = 28\n",
            "7 X 5 = 35\n",
            "7 X 6 = 42\n",
            "7 X 7 = 49\n",
            "7 X 8 = 56\n",
            "7 X 9 = 63\n",
            "8 X 1 = 8\n",
            "8 X 2 = 16\n",
            "8 X 3 = 24\n",
            "8 X 4 = 32\n",
            "8 X 5 = 40\n",
            "8 X 6 = 48\n",
            "8 X 7 = 56\n",
            "8 X 8 = 64\n",
            "8 X 9 = 72\n",
            "9 X 1 = 9\n",
            "9 X 2 = 18\n",
            "9 X 3 = 27\n",
            "9 X 4 = 36\n",
            "9 X 5 = 45\n",
            "9 X 6 = 54\n",
            "9 X 7 = 63\n",
            "9 X 8 = 72\n",
            "9 X 9 = 81\n"
          ]
        }
      ]
    },
    {
      "cell_type": "markdown",
      "source": [
        "while 예제"
      ],
      "metadata": {
        "id": "XcJeIKBq-88r"
      }
    },
    {
      "cell_type": "code",
      "source": [
        "num1, num2 = 0, 0\n",
        "\n",
        "while True :\n",
        "  num1 = int(input('숫자1 ==> '))\n",
        "  if num1 == 0 :\n",
        "    break\n",
        "  num2 = int(input('숫자2 ==> '))\n",
        "  \n",
        "  hap = num1 + num2\n",
        "  print(num1, '+', num2, '=', hap)"
      ],
      "metadata": {
        "colab": {
          "base_uri": "https://localhost:8080/"
        },
        "id": "5wHymPGOBQT2",
        "outputId": "014906bf-30bb-4552-d314-56cc327cad37"
      },
      "execution_count": 5,
      "outputs": [
        {
          "name": "stdout",
          "output_type": "stream",
          "text": [
            "숫자1 ==> 30\n",
            "숫자2 ==> 77\n",
            "30 + 77 = 107\n",
            "숫자1 ==> 8\n",
            "숫자2 ==> 12345\n",
            "8 + 12345 = 12353\n",
            "숫자1 ==> 0\n"
          ]
        }
      ]
    },
    {
      "cell_type": "markdown",
      "source": [
        "형성평가 3번"
      ],
      "metadata": {
        "id": "QdUmYkLRDYWM"
      }
    },
    {
      "cell_type": "code",
      "source": [
        "import random\n",
        "\n",
        "score = 0\n",
        "\n",
        "while True :\n",
        "  d1 = random.randint(1, 6)\n",
        "  d2 = random.randint(1, 6)\n",
        "  d3 = random.randint(1, 6)\n",
        "  if d1 == d2 == d3 :\n",
        "    break\n",
        "  else :\n",
        "    score += 1\n",
        "\n",
        "print('3개 주사위는 모두', d1, ' 입니다')\n",
        "print('같은 숫자가 나오기까지 ', score, '번 던졌습니다')"
      ],
      "metadata": {
        "colab": {
          "base_uri": "https://localhost:8080/"
        },
        "id": "RAw6IPnWDcvL",
        "outputId": "cea94371-9e68-458e-e678-2560b6aface4"
      },
      "execution_count": 12,
      "outputs": [
        {
          "output_type": "stream",
          "name": "stdout",
          "text": [
            "3개 주사위는 모두 5  입니다\n",
            "같은 숫자가 나오기까지  12 번 던졌습니다\n"
          ]
        }
      ]
    },
    {
      "cell_type": "markdown",
      "source": [
        "형성평가 4번"
      ],
      "metadata": {
        "id": "_VSQgM1BEyr9"
      }
    },
    {
      "cell_type": "code",
      "source": [
        "import random\n",
        "\n",
        "score = 0\n",
        "\n",
        "while True :\n",
        "  pc_num = random.randint(1, 5)\n",
        "  print('게임', score, '회 : ', end = '')\n",
        "  user_num = int(input('컴퓨터가 생각한 숫자는? : '))\n",
        "  \n",
        "  if pc_num == user_num :\n",
        "    print('맞췄습니다 축하합니다!')\n",
        "    break\n",
        "  \n",
        "  elif score >= 10 :\n",
        "    print('10번 안에 못 맞췄습니다')\n",
        "    break\n",
        "  \n",
        "  else :\n",
        "    print('틀렸습니다', pc_num, '이였습니다')\n",
        "    score += 1\n",
        "    continue\n",
        "\n",
        "print('게임을 마칩니다')"
      ],
      "metadata": {
        "colab": {
          "base_uri": "https://localhost:8080/"
        },
        "id": "DV1dFV6YE01T",
        "outputId": "56478558-70c9-4c5d-a282-7698a3ab017a"
      },
      "execution_count": 29,
      "outputs": [
        {
          "output_type": "stream",
          "name": "stdout",
          "text": [
            "게임 0 회 : 컴퓨터가 생각한 숫자는? : 3\n",
            "틀렸습니다 1 이였습니다\n",
            "게임 1 회 : 컴퓨터가 생각한 숫자는? : 2\n",
            "틀렸습니다 5 이였습니다\n",
            "게임 2 회 : 컴퓨터가 생각한 숫자는? : 1\n",
            "맞췄습니다 축하합니다!\n",
            "게임을 마칩니다\n"
          ]
        }
      ]
    },
    {
      "cell_type": "markdown",
      "source": [
        "야구게임"
      ],
      "metadata": {
        "id": "VI3cOlN4H0lm"
      }
    },
    {
      "cell_type": "code",
      "source": [
        "import random\n",
        "\n",
        "pc_list = [1, 2, 3, 4, 5, 6, 7, 8, 9]\n",
        "pc_num, user_num = [], []\n",
        "def user_fun() :\n",
        "  user_num.clear()\n",
        "  user = input('숫자 3개를 입력하세요(1~9) : ')\n",
        "  for i in range(0, 5, 2) :\n",
        "    user_num.append(int(user[i]))\n",
        "\n",
        "for i in range(3) :\n",
        "  n = random.choice(pc_list)\n",
        "  pc_list.remove(n)\n",
        "  pc_num.append(n)\n",
        "\n",
        "while True :\n",
        "  user_fun()\n",
        "  \n",
        "  for i in range(3) :\n",
        "    if pc_num[i] == user_num[i] :\n",
        "      strike += 1\n",
        "    elif user_num[i] in pc_num :\n",
        "      ball += 1\n",
        "  print(strike, '스트라이크', ball, '볼')\n",
        "  if strike == 3 :\n",
        "    print('클리어!')\n",
        "    break\n",
        "  strike, ball = 0, 0"
      ],
      "metadata": {
        "colab": {
          "base_uri": "https://localhost:8080/",
          "height": 474
        },
        "id": "pyLKGgBQIBV1",
        "outputId": "1a944bca-1d50-449c-8fd6-e246abad8dd7"
      },
      "execution_count": 142,
      "outputs": [
        {
          "output_type": "stream",
          "name": "stdout",
          "text": [
            "숫자 3개를 입력하세요(1~9) : 1 2 4\n",
            "2 스트라이크 3 볼\n",
            "숫자 3개를 입력하세요(1~9) : 2 4 5\n",
            "1 스트라이크 0 볼\n"
          ]
        },
        {
          "output_type": "error",
          "ename": "KeyboardInterrupt",
          "evalue": "ignored",
          "traceback": [
            "\u001b[0;31m---------------------------------------------------------------------------\u001b[0m",
            "\u001b[0;31mKeyboardInterrupt\u001b[0m                         Traceback (most recent call last)",
            "\u001b[0;32m<ipython-input-142-94a4d0153c12>\u001b[0m in \u001b[0;36m<module>\u001b[0;34m\u001b[0m\n\u001b[1;32m     15\u001b[0m \u001b[0;34m\u001b[0m\u001b[0m\n\u001b[1;32m     16\u001b[0m \u001b[0;32mwhile\u001b[0m \u001b[0;32mTrue\u001b[0m \u001b[0;34m:\u001b[0m\u001b[0;34m\u001b[0m\u001b[0;34m\u001b[0m\u001b[0m\n\u001b[0;32m---> 17\u001b[0;31m   \u001b[0muser_fun\u001b[0m\u001b[0;34m(\u001b[0m\u001b[0;34m)\u001b[0m\u001b[0;34m\u001b[0m\u001b[0;34m\u001b[0m\u001b[0m\n\u001b[0m\u001b[1;32m     18\u001b[0m \u001b[0;34m\u001b[0m\u001b[0m\n\u001b[1;32m     19\u001b[0m   \u001b[0;32mfor\u001b[0m \u001b[0mi\u001b[0m \u001b[0;32min\u001b[0m \u001b[0mrange\u001b[0m\u001b[0;34m(\u001b[0m\u001b[0;36m3\u001b[0m\u001b[0;34m)\u001b[0m \u001b[0;34m:\u001b[0m\u001b[0;34m\u001b[0m\u001b[0;34m\u001b[0m\u001b[0m\n",
            "\u001b[0;32m<ipython-input-142-94a4d0153c12>\u001b[0m in \u001b[0;36muser_fun\u001b[0;34m()\u001b[0m\n\u001b[1;32m      5\u001b[0m \u001b[0;32mdef\u001b[0m \u001b[0muser_fun\u001b[0m\u001b[0;34m(\u001b[0m\u001b[0;34m)\u001b[0m \u001b[0;34m:\u001b[0m\u001b[0;34m\u001b[0m\u001b[0;34m\u001b[0m\u001b[0m\n\u001b[1;32m      6\u001b[0m   \u001b[0muser_num\u001b[0m\u001b[0;34m.\u001b[0m\u001b[0mclear\u001b[0m\u001b[0;34m(\u001b[0m\u001b[0;34m)\u001b[0m\u001b[0;34m\u001b[0m\u001b[0;34m\u001b[0m\u001b[0m\n\u001b[0;32m----> 7\u001b[0;31m   \u001b[0muser\u001b[0m \u001b[0;34m=\u001b[0m \u001b[0minput\u001b[0m\u001b[0;34m(\u001b[0m\u001b[0;34m'숫자 3개를 입력하세요(1~9) : '\u001b[0m\u001b[0;34m)\u001b[0m\u001b[0;34m\u001b[0m\u001b[0;34m\u001b[0m\u001b[0m\n\u001b[0m\u001b[1;32m      8\u001b[0m   \u001b[0;32mfor\u001b[0m \u001b[0mi\u001b[0m \u001b[0;32min\u001b[0m \u001b[0mrange\u001b[0m\u001b[0;34m(\u001b[0m\u001b[0;36m0\u001b[0m\u001b[0;34m,\u001b[0m \u001b[0;36m5\u001b[0m\u001b[0;34m,\u001b[0m \u001b[0;36m2\u001b[0m\u001b[0;34m)\u001b[0m \u001b[0;34m:\u001b[0m\u001b[0;34m\u001b[0m\u001b[0;34m\u001b[0m\u001b[0m\n\u001b[1;32m      9\u001b[0m     \u001b[0muser_num\u001b[0m\u001b[0;34m.\u001b[0m\u001b[0mappend\u001b[0m\u001b[0;34m(\u001b[0m\u001b[0mint\u001b[0m\u001b[0;34m(\u001b[0m\u001b[0muser\u001b[0m\u001b[0;34m[\u001b[0m\u001b[0mi\u001b[0m\u001b[0;34m]\u001b[0m\u001b[0;34m)\u001b[0m\u001b[0;34m)\u001b[0m\u001b[0;34m\u001b[0m\u001b[0;34m\u001b[0m\u001b[0m\n",
            "\u001b[0;32m/usr/local/lib/python3.7/dist-packages/ipykernel/kernelbase.py\u001b[0m in \u001b[0;36mraw_input\u001b[0;34m(self, prompt)\u001b[0m\n\u001b[1;32m    861\u001b[0m             \u001b[0mself\u001b[0m\u001b[0;34m.\u001b[0m\u001b[0m_parent_ident\u001b[0m\u001b[0;34m,\u001b[0m\u001b[0;34m\u001b[0m\u001b[0;34m\u001b[0m\u001b[0m\n\u001b[1;32m    862\u001b[0m             \u001b[0mself\u001b[0m\u001b[0;34m.\u001b[0m\u001b[0m_parent_header\u001b[0m\u001b[0;34m,\u001b[0m\u001b[0;34m\u001b[0m\u001b[0;34m\u001b[0m\u001b[0m\n\u001b[0;32m--> 863\u001b[0;31m             \u001b[0mpassword\u001b[0m\u001b[0;34m=\u001b[0m\u001b[0;32mFalse\u001b[0m\u001b[0;34m,\u001b[0m\u001b[0;34m\u001b[0m\u001b[0;34m\u001b[0m\u001b[0m\n\u001b[0m\u001b[1;32m    864\u001b[0m         )\n\u001b[1;32m    865\u001b[0m \u001b[0;34m\u001b[0m\u001b[0m\n",
            "\u001b[0;32m/usr/local/lib/python3.7/dist-packages/ipykernel/kernelbase.py\u001b[0m in \u001b[0;36m_input_request\u001b[0;34m(self, prompt, ident, parent, password)\u001b[0m\n\u001b[1;32m    902\u001b[0m             \u001b[0;32mexcept\u001b[0m \u001b[0mKeyboardInterrupt\u001b[0m\u001b[0;34m:\u001b[0m\u001b[0;34m\u001b[0m\u001b[0;34m\u001b[0m\u001b[0m\n\u001b[1;32m    903\u001b[0m                 \u001b[0;31m# re-raise KeyboardInterrupt, to truncate traceback\u001b[0m\u001b[0;34m\u001b[0m\u001b[0;34m\u001b[0m\u001b[0;34m\u001b[0m\u001b[0m\n\u001b[0;32m--> 904\u001b[0;31m                 \u001b[0;32mraise\u001b[0m \u001b[0mKeyboardInterrupt\u001b[0m\u001b[0;34m(\u001b[0m\u001b[0;34m\"Interrupted by user\"\u001b[0m\u001b[0;34m)\u001b[0m \u001b[0;32mfrom\u001b[0m \u001b[0;32mNone\u001b[0m\u001b[0;34m\u001b[0m\u001b[0;34m\u001b[0m\u001b[0m\n\u001b[0m\u001b[1;32m    905\u001b[0m             \u001b[0;32mexcept\u001b[0m \u001b[0mException\u001b[0m \u001b[0;32mas\u001b[0m \u001b[0me\u001b[0m\u001b[0;34m:\u001b[0m\u001b[0;34m\u001b[0m\u001b[0;34m\u001b[0m\u001b[0m\n\u001b[1;32m    906\u001b[0m                 \u001b[0mself\u001b[0m\u001b[0;34m.\u001b[0m\u001b[0mlog\u001b[0m\u001b[0;34m.\u001b[0m\u001b[0mwarning\u001b[0m\u001b[0;34m(\u001b[0m\u001b[0;34m\"Invalid Message:\"\u001b[0m\u001b[0;34m,\u001b[0m \u001b[0mexc_info\u001b[0m\u001b[0;34m=\u001b[0m\u001b[0;32mTrue\u001b[0m\u001b[0;34m)\u001b[0m\u001b[0;34m\u001b[0m\u001b[0;34m\u001b[0m\u001b[0m\n",
            "\u001b[0;31mKeyboardInterrupt\u001b[0m: Interrupted by user"
          ]
        }
      ]
    }
  ]
}