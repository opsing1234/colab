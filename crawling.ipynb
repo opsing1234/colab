{
  "nbformat": 4,
  "nbformat_minor": 0,
  "metadata": {
    "colab": {
      "provenance": [],
      "authorship_tag": "ABX9TyPfdsDvRzF3TBrhhl5LEb1S",
      "include_colab_link": true
    },
    "kernelspec": {
      "name": "python3",
      "display_name": "Python 3"
    },
    "language_info": {
      "name": "python"
    }
  },
  "cells": [
    {
      "cell_type": "markdown",
      "metadata": {
        "id": "view-in-github",
        "colab_type": "text"
      },
      "source": [
        "<a href=\"https://colab.research.google.com/github/opsing1234/colab/blob/main/crawling.ipynb\" target=\"_parent\"><img src=\"https://colab.research.google.com/assets/colab-badge.svg\" alt=\"Open In Colab\"/></a>"
      ]
    },
    {
      "cell_type": "markdown",
      "source": [
        "크롤링"
      ],
      "metadata": {
        "id": "9Z39u-olveAx"
      }
    },
    {
      "cell_type": "code",
      "execution_count": null,
      "metadata": {
        "id": "VX62WZpVutV6"
      },
      "outputs": [],
      "source": [
        "#!pip install beautifulsoup4\n",
        "#!pip install requests\n",
        "#!pip install pyttsx3\n",
        "#!pip install IPython\n",
        "\n",
        "from IPython.display import Audio\n",
        "from bs4 import BeautifulSoup as bs\n",
        "import requests\n",
        "import pyttsx3\n",
        "\n",
        "page = requests.get('https://media.naver.com/press/437/ranking?type=popular')\n",
        "soup = bs(page.text, 'html.parser')\n",
        "tag = soup.findAll('strong', class_='list_title')\n",
        "num = 1\n",
        "temp = \"\"\n",
        "engine = pyttsx3.init()\n",
        "engine.setProperty('rate', 150)\n",
        "for news in tag :\n",
        "  temp = temp + str(num) + '번째' + news.text + '\\n'\n",
        "  print(news.text)\n",
        "  num += 1\n",
        "\n",
        "print(temp)\n",
        "engine.say(temp)\n",
        "engine.runAndWait()"
      ]
    }
  ]
}