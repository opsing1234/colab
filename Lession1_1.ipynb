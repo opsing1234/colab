{
  "nbformat": 4,
  "nbformat_minor": 0,
  "metadata": {
    "colab": {
      "name": "Lession1-1.ipynb",
      "provenance": [],
      "authorship_tag": "ABX9TyMzzyGE2qVvmTcLuiInDcja",
      "include_colab_link": true
    },
    "kernelspec": {
      "name": "python3",
      "display_name": "Python 3"
    },
    "language_info": {
      "name": "python"
    }
  },
  "cells": [
    {
      "cell_type": "markdown",
      "metadata": {
        "id": "view-in-github",
        "colab_type": "text"
      },
      "source": [
        "<a href=\"https://colab.research.google.com/github/opsing1234/colab/blob/main/Lession1_1.ipynb\" target=\"_parent\"><img src=\"https://colab.research.google.com/assets/colab-badge.svg\" alt=\"Open In Colab\"/></a>"
      ]
    },
    {
      "cell_type": "markdown",
      "source": [
        "#파이썬 시작하기\n",
        "\n",
        "*   프로그램\n",
        "  *   컴퓨터와 스마트폰에 들어있는 많은 소프트웨어\n",
        "      유튜브, 메세지, 전화, 카카오톡 등\n",
        "  *   프로그램, 소프트웨어(Software).어플리케이션(Application), 앱 응용(App)프로그램 모두 동일한 용어입니다\n",
        "\n",
        "\n",
        "\n",
        "\n",
        "\n",
        "\n",
        "\n"
      ],
      "metadata": {
        "id": "viiz1UqSGdl3"
      }
    },
    {
      "cell_type": "markdown",
      "source": [
        "#프로그램, 프로그래밍 언어, 프로그래머\n",
        "\n",
        "* 프로그래밍(Programming)\n",
        "  * 프로그램을 만드는 작업\n",
        "\n",
        "* 프로그래밍 언어(Programming Language)\n",
        "  * 사람이 이해하는 말을 언어라고 부르듯이 컴퓨터가 이해하는 언어를 의미\n",
        "\n",
        "* 프로그래머(Programmer)\n",
        "  * 프로그래밍 언어를 사용하여 소프트웨어나 앱을 만드는 직업을 가진 사람을 의미"
      ],
      "metadata": {
        "id": "TtNoLRiVIv6A"
      }
    },
    {
      "cell_type": "markdown",
      "source": [
        "예제"
      ],
      "metadata": {
        "id": "XSnBpWVpPMgJ"
      }
    },
    {
      "cell_type": "code",
      "source": [
        "print(100 + 300)"
      ],
      "metadata": {
        "colab": {
          "base_uri": "https://localhost:8080/"
        },
        "id": "6Zk1bgsnPAza",
        "outputId": "99a34ead-956f-4bf9-f0db-b282a4beb193"
      },
      "execution_count": 2,
      "outputs": [
        {
          "output_type": "stream",
          "name": "stdout",
          "text": [
            "400\n"
          ]
        }
      ]
    },
    {
      "cell_type": "code",
      "source": [
        "print(200 / 3 * 4)"
      ],
      "metadata": {
        "colab": {
          "base_uri": "https://localhost:8080/"
        },
        "id": "0VvBckrvPQWi",
        "outputId": "4a6099c4-d8a8-46f3-c8b4-61598db5a954"
      },
      "execution_count": 3,
      "outputs": [
        {
          "output_type": "stream",
          "name": "stdout",
          "text": [
            "266.6666666666667\n"
          ]
        }
      ]
    },
    {
      "cell_type": "code",
      "source": [
        "print(\"난생처음 파이썬을\")\n",
        "print(\"열심히 공부 중입니다\")\n",
        "print(\"이젠 저도 파이썬 프로그래머입니다. ^^\")"
      ],
      "metadata": {
        "colab": {
          "base_uri": "https://localhost:8080/"
        },
        "id": "UliFD6FlPveZ",
        "outputId": "b096986d-f935-4490-a0c5-b924f32fbb98"
      },
      "execution_count": 4,
      "outputs": [
        {
          "output_type": "stream",
          "name": "stdout",
          "text": [
            "난생처음 파이썬을\n",
            "열심히 공부 중입니다\n",
            "이젠 저도 파이썬 프로그래머입니다. ^^\n"
          ]
        }
      ]
    }
  ]
}