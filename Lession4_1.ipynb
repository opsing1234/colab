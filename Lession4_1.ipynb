{
  "nbformat": 4,
  "nbformat_minor": 0,
  "metadata": {
    "colab": {
      "name": "Lession4-1.ipynb",
      "provenance": [],
      "authorship_tag": "ABX9TyPvVmczi1oO1w5/Lkmao3+S",
      "include_colab_link": true
    },
    "kernelspec": {
      "name": "python3",
      "display_name": "Python 3"
    },
    "language_info": {
      "name": "python"
    }
  },
  "cells": [
    {
      "cell_type": "markdown",
      "metadata": {
        "id": "view-in-github",
        "colab_type": "text"
      },
      "source": [
        "<a href=\"https://colab.research.google.com/github/opsing1234/colab/blob/main/Lession4_1.ipynb\" target=\"_parent\"><img src=\"https://colab.research.google.com/assets/colab-badge.svg\" alt=\"Open In Colab\"/></a>"
      ]
    },
    {
      "cell_type": "markdown",
      "source": [
        "데이터 타입 예제"
      ],
      "metadata": {
        "id": "qljflcXvNJIL"
      }
    },
    {
      "cell_type": "code",
      "execution_count": 1,
      "metadata": {
        "colab": {
          "base_uri": "https://localhost:8080/"
        },
        "id": "aekG30WBNDVN",
        "outputId": "29f98d7b-cdf7-44b4-aa30-0d147f117ba7"
      },
      "outputs": [
        {
          "output_type": "stream",
          "name": "stdout",
          "text": [
            "var1의 타입은  <class 'int'>\n",
            "var2의 타입은  <class 'float'>\n",
            "var3의 타입은  <class 'str'>\n",
            "var4의 타입은  <class 'bool'>\n"
          ]
        }
      ],
      "source": [
        "var1 = 100\n",
        "var2 = 3.14\n",
        "var3 = '안산공고'\n",
        "var4 = True\n",
        "\n",
        "print('var1의 타입은 ', type(var1))\n",
        "print('var2의 타입은 ', type(var2))\n",
        "print('var3의 타입은 ', type(var3))\n",
        "print('var4의 타입은 ', type(var4))"
      ]
    }
  ]
}