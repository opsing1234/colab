{
  "nbformat": 4,
  "nbformat_minor": 0,
  "metadata": {
    "colab": {
      "name": "Lession4.ipynb",
      "provenance": [],
      "authorship_tag": "ABX9TyNHqq9Kl8r9NGDBrBQmu8KJ",
      "include_colab_link": true
    },
    "kernelspec": {
      "name": "python3",
      "display_name": "Python 3"
    },
    "language_info": {
      "name": "python"
    }
  },
  "cells": [
    {
      "cell_type": "markdown",
      "metadata": {
        "id": "view-in-github",
        "colab_type": "text"
      },
      "source": [
        "<a href=\"https://colab.research.google.com/github/opsing1234/colab/blob/main/Lession4.ipynb\" target=\"_parent\"><img src=\"https://colab.research.google.com/assets/colab-badge.svg\" alt=\"Open In Colab\"/></a>"
      ]
    },
    {
      "cell_type": "markdown",
      "source": [
        "이스케이프 예제"
      ],
      "metadata": {
        "id": "qljflcXvNJIL"
      }
    },
    {
      "cell_type": "code",
      "execution_count": 1,
      "metadata": {
        "colab": {
          "base_uri": "https://localhost:8080/"
        },
        "id": "aekG30WBNDVN",
        "outputId": "a718417c-6455-4f9b-f966-24523f32ed50"
      },
      "outputs": [
        {
          "output_type": "stream",
          "name": "stdout",
          "text": [
            "\n",
            "줄바꿈\n",
            "연습\n",
            "\t탭키\t연습\n",
            "어떤 글자를 \"강조\"하는 효과1\n",
            "어떤 글자를 '강조'하는 효과2\n",
            "\\\\ 백슬래시 2개 출력\n"
          ]
        }
      ],
      "source": [
        "print(\"\\n줄바꿈\\n연습\")\n",
        "print(\"\\t탭키\\t연습\")\n",
        "print(\"어떤 글자를 \\\"강조\\\"하는 효과1\")\n",
        "print(\"어떤 글자를 \\'강조\\'하는 효과2\")\n",
        "print(\"\\\\\\\\ 백슬래시 2개 출력\")"
      ]
    },
    {
      "cell_type": "markdown",
      "source": [
        "형성평가 1번"
      ],
      "metadata": {
        "id": "_amClUMd4QYb"
      }
    },
    {
      "cell_type": "code",
      "source": [
        "str1 = input('첫번째 문자열 ==> ')\n",
        "str2 = input('두번째 문자열 ==> ')\n",
        "\n",
        "result = len(str1) - len(str2)\n",
        "\n",
        "print('두 문자열의 길이 차이는', result, '입니다.')"
      ],
      "metadata": {
        "colab": {
          "base_uri": "https://localhost:8080/"
        },
        "id": "I40R08gG4TJr",
        "outputId": "27f0fc7e-4820-4e9e-f095-5c3e0801ee52"
      },
      "execution_count": 5,
      "outputs": [
        {
          "output_type": "stream",
          "name": "stdout",
          "text": [
            "첫번째 문자열 ==> 난생처음 파이썬\n",
            "두번째 문자열 ==> First Python\n",
            "두 문자열의 길이 차이는 -4 입니다.\n"
          ]
        }
      ]
    },
    {
      "cell_type": "markdown",
      "source": [
        "형성평가 2번"
      ],
      "metadata": {
        "id": "jTUfNXvs7XZr"
      }
    },
    {
      "cell_type": "code",
      "source": [
        "IDOL = '트와이스'\n",
        "\n",
        "print('원본 문자열 ==> ', IDOL[0] + IDOL[1] + IDOL[2] + IDOL[3])\n",
        "print('바뀐 문자열 ==> ', IDOL[3] + IDOL[2] + IDOL[1] + IDOL[0])"
      ],
      "metadata": {
        "colab": {
          "base_uri": "https://localhost:8080/"
        },
        "id": "NPLygk8u75sS",
        "outputId": "ca24059e-af80-464b-c385-6e44a8f23826"
      },
      "execution_count": 6,
      "outputs": [
        {
          "output_type": "stream",
          "name": "stdout",
          "text": [
            "원본 문자열 ==>  트와이스\n",
            "바뀐 문자열 ==>  스이와트\n"
          ]
        }
      ]
    }
  ]
}