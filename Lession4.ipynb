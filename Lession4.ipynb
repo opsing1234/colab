{
  "nbformat": 4,
  "nbformat_minor": 0,
  "metadata": {
    "colab": {
      "name": "Lession4.ipynb",
      "provenance": [],
      "authorship_tag": "ABX9TyM38ExsDO8V8UaB09fZcZrM",
      "include_colab_link": true
    },
    "kernelspec": {
      "name": "python3",
      "display_name": "Python 3"
    },
    "language_info": {
      "name": "python"
    }
  },
  "cells": [
    {
      "cell_type": "markdown",
      "metadata": {
        "id": "view-in-github",
        "colab_type": "text"
      },
      "source": [
        "<a href=\"https://colab.research.google.com/github/opsing1234/colab/blob/main/Lession4.ipynb\" target=\"_parent\"><img src=\"https://colab.research.google.com/assets/colab-badge.svg\" alt=\"Open In Colab\"/></a>"
      ]
    },
    {
      "cell_type": "markdown",
      "source": [
        "이스케이프 예제"
      ],
      "metadata": {
        "id": "qljflcXvNJIL"
      }
    },
    {
      "cell_type": "code",
      "execution_count": null,
      "metadata": {
        "colab": {
          "base_uri": "https://localhost:8080/"
        },
        "id": "aekG30WBNDVN",
        "outputId": "a718417c-6455-4f9b-f966-24523f32ed50"
      },
      "outputs": [
        {
          "output_type": "stream",
          "name": "stdout",
          "text": [
            "\n",
            "줄바꿈\n",
            "연습\n",
            "\t탭키\t연습\n",
            "어떤 글자를 \"강조\"하는 효과1\n",
            "어떤 글자를 '강조'하는 효과2\n",
            "\\\\ 백슬래시 2개 출력\n"
          ]
        }
      ],
      "source": [
        "print(\"\\n줄바꿈\\n연습\")\n",
        "print(\"\\t탭키\\t연습\")\n",
        "print(\"어떤 글자를 \\\"강조\\\"하는 효과1\")\n",
        "print(\"어떤 글자를 \\'강조\\'하는 효과2\")\n",
        "print(\"\\\\\\\\ 백슬래시 2개 출력\")"
      ]
    },
    {
      "cell_type": "markdown",
      "source": [
        "형성평가 1번"
      ],
      "metadata": {
        "id": "_amClUMd4QYb"
      }
    },
    {
      "cell_type": "code",
      "source": [
        "str1 = input('첫번째 문자열 ==> ')\n",
        "str2 = input('두번째 문자열 ==> ')\n",
        "\n",
        "result = len(str1) - len(str2)\n",
        "\n",
        "print('두 문자열의 길이 차이는', result, '입니다.')"
      ],
      "metadata": {
        "colab": {
          "base_uri": "https://localhost:8080/"
        },
        "id": "I40R08gG4TJr",
        "outputId": "27f0fc7e-4820-4e9e-f095-5c3e0801ee52"
      },
      "execution_count": null,
      "outputs": [
        {
          "output_type": "stream",
          "name": "stdout",
          "text": [
            "첫번째 문자열 ==> 난생처음 파이썬\n",
            "두번째 문자열 ==> First Python\n",
            "두 문자열의 길이 차이는 -4 입니다.\n"
          ]
        }
      ]
    },
    {
      "cell_type": "markdown",
      "source": [
        "lower, upper 실습"
      ],
      "metadata": {
        "id": "Q7F7VqTqgnuq"
      }
    },
    {
      "cell_type": "code",
      "source": [
        "str1 = input('문자열 입력 : ')\n",
        "print('입력된 문자열의 길이 : ', len(str1))\n",
        "print('입력된 문자열을 대문자로 변환 : ', str1.upper())\n",
        "print('입력된 문자열을 소문자로 변환 : ', str1.lower())\n",
        "print('입력된 문자열 중 ansan은 몇번 나오는가 : ', str1.count('ansan'))\n",
        "print('입력된 문자열은 대문자인가요? : ', str1.isupper())\n",
        "print('입력된 문자열은 소문자인가요? : ', str1.islower())"
      ],
      "metadata": {
        "colab": {
          "base_uri": "https://localhost:8080/"
        },
        "id": "iI_z1s78fdCR",
        "outputId": "c22b1ebe-3567-4f17-a4a0-3b408b5a08f8"
      },
      "execution_count": 1,
      "outputs": [
        {
          "output_type": "stream",
          "name": "stdout",
          "text": [
            "문자열 입력 : 오늘은 금요일, 내일은 토요일 have a nice day!\n",
            "입력된 문자열의 길이 :  33\n",
            "입력된 문자열을 대문자로 변환 :  오늘은 금요일, 내일은 토요일 HAVE A NICE DAY!\n",
            "입력된 문자열을 소문자로 변환 :  오늘은 금요일, 내일은 토요일 have a nice day!\n",
            "입력된 문자열 중 ansan은 몇번 나오는가 :  0\n",
            "입력된 문자열은 대문자인가요? :  False\n",
            "입력된 문자열은 소문자인가요? :  True\n"
          ]
        }
      ]
    },
    {
      "cell_type": "code",
      "source": [
        "gasa = \"\"\"When I find myself in times of trouble\n",
        "Mother Mary comes to me\n",
        "Speaking words of wisdom\n",
        "Let it be\n",
        "And in my hour of darkness\n",
        "She is standing right in front of me\n",
        "Speaking words of wisdom\n",
        "Let it be\n",
        "Let is be, let it be\n",
        "Let it be, let it be\n",
        "Whisper words of wisdom\n",
        "Let it be\n",
        "And when the brokenhearted people\n",
        "Living in the world agree\n",
        "There will be an answer\n",
        "Let it be\n",
        "For though they may be parted\n",
        "There is still a chance that they will see\n",
        "There will be an answer\n",
        "Let it be\n",
        "Let is be, let it be\n",
        "Let it be, let it be\n",
        "Yeah, there will be an answer\n",
        "Let it be\n",
        "Let is be, let it be\n",
        "Let it be, let it be\n",
        "Whisper words of wisdom\n",
        "Let it be\n",
        "Let is be, let it be\n",
        "Let it be, yeah, let it be\n",
        "Whisper words of wisdom\n",
        "Let it be\n",
        "And when the night is cloudy\n",
        "There is still a light that shines on me\n",
        "Shine on 'til tomorrow\n",
        "Let it be\n",
        "I wake up to the sound of music\n",
        "Mother Mary comes to me\n",
        "Speaking words of wisdom\n",
        "Let it be, yeah\n",
        "Let it be, let it be\n",
        "Let it be, yeah, let it be\n",
        "Oh, there will be an answer\n",
        "Let it be\n",
        "Let it be, let it be\n",
        "Let it be, yeah, let it be\n",
        "Whisper words of wisdom\n",
        "Let it be\n",
        "\"\"\"\n",
        "\n",
        "song = gasa.lower()\n",
        "score = song.count('let it be')\n",
        "\n",
        "print('Let it be 노래에서 \"Let it be\" 라는 단어는 총 ', score, '번 나옵니다')"
      ],
      "metadata": {
        "colab": {
          "base_uri": "https://localhost:8080/"
        },
        "id": "cttIXQwxhZlb",
        "outputId": "6be90c9e-8842-4c27-e6cb-7eda245665a1"
      },
      "execution_count": 11,
      "outputs": [
        {
          "output_type": "stream",
          "name": "stdout",
          "text": [
            "Let it be 노래에서 \"Let it be\" 라는 단어는 총  32 번 나옵니다\n"
          ]
        }
      ]
    },
    {
      "cell_type": "code",
      "source": [
        "gasa = \"\"\"Yesterday\n",
        "All my trouble seemed so far away\n",
        "Now it looks as though they're here to stay\n",
        "Oh, I believe in yesterday\n",
        "Suddenly\n",
        "I'm not half the man I used to be\n",
        "There's a shadow hanging over me\n",
        "Oh, yesterday came suddenly\n",
        "Why she had to go, I don't know\n",
        "She wouldn't say\n",
        "I said something wrong\n",
        "Now I long for yesterday\n",
        "Yesterday\n",
        "Love was such an easy game to play\n",
        "Now I need a place to hide away\n",
        "Oh, I believe in yesterday\n",
        "Why she had to go, I don't know\n",
        "She wouldn't say\n",
        "I said something wrong\n",
        "Now I long for yesterday\n",
        "Yesterday\n",
        "Love was such an easy game to play\n",
        "Now I need a place to hide away\n",
        "Oh, I believe in yesterday\n",
        "\"\"\"\n",
        "\n",
        "song  = gasa.lower()\n",
        "select = song.count('yesterday')\n",
        "print('yesterday 노래에서 \"yesterday\" 라는 단어는 ', select, '번 나옵니다')"
      ],
      "metadata": {
        "colab": {
          "base_uri": "https://localhost:8080/"
        },
        "id": "AzZtl7MKj1Uy",
        "outputId": "5f6aa1cf-deac-4b49-98ea-38bc0dcc886e"
      },
      "execution_count": 12,
      "outputs": [
        {
          "output_type": "stream",
          "name": "stdout",
          "text": [
            "yesterday 노래에서 \"yesterday\" 라는 단어는  9 번 나옵니다\n"
          ]
        }
      ]
    },
    {
      "cell_type": "markdown",
      "source": [
        "list 실습"
      ],
      "metadata": {
        "id": "O98VLRjXl7rb"
      }
    },
    {
      "cell_type": "code",
      "source": [
        "mylist = ['안산공고', '컴퓨터', 3, 1, 2022]\n",
        "#print(mylist)\n",
        "print(mylist[4])"
      ],
      "metadata": {
        "colab": {
          "base_uri": "https://localhost:8080/"
        },
        "id": "ZdITbh8hl-oS",
        "outputId": "f1c608f3-5a9c-4eb2-d1b9-ae7170d471c5"
      },
      "execution_count": 20,
      "outputs": [
        {
          "output_type": "stream",
          "name": "stdout",
          "text": [
            "2022\n"
          ]
        }
      ]
    },
    {
      "cell_type": "markdown",
      "source": [
        "문자열 예제"
      ],
      "metadata": {
        "id": "9qDmbG_Nmoic"
      }
    },
    {
      "cell_type": "code",
      "source": [
        "str1 = 'Ansan Technical High School'\n",
        "print(str1)\n",
        "print(str1[16:20])\n",
        "print(str1[-1])"
      ],
      "metadata": {
        "colab": {
          "base_uri": "https://localhost:8080/"
        },
        "id": "H8V4yyl4mqe7",
        "outputId": "c7c2195f-37db-4ecc-f467-967a6c44bf58"
      },
      "execution_count": 30,
      "outputs": [
        {
          "output_type": "stream",
          "name": "stdout",
          "text": [
            "Ansan Technical High School\n",
            "High\n",
            "l\n"
          ]
        }
      ]
    },
    {
      "cell_type": "code",
      "source": [
        "while True :\n",
        "  str1 = input(\"문자열 입력 : \")\n",
        "  if str1 == 'q' :\n",
        "    break\n",
        "  print(str1)"
      ],
      "metadata": {
        "colab": {
          "base_uri": "https://localhost:8080/"
        },
        "id": "RKXmwDvQnukr",
        "outputId": "1de5ad54-1f93-4e6d-e9ef-f2e93bbbd399"
      },
      "execution_count": 32,
      "outputs": [
        {
          "name": "stdout",
          "output_type": "stream",
          "text": [
            "문자열 입력 : ansan\n",
            "ansan\n",
            "문자열 입력 : q\n"
          ]
        }
      ]
    },
    {
      "cell_type": "markdown",
      "source": [
        "형성평가 2번"
      ],
      "metadata": {
        "id": "jTUfNXvs7XZr"
      }
    },
    {
      "cell_type": "code",
      "source": [
        "IDOL = input(\"원본 문자열 == > \")\n",
        "IDOL_len = len(IDOL)\n",
        "IDOL_r = \"\"\n",
        "while IDOL_len > 0 :\n",
        "  IDOL_r = IDOL_r + IDOL[IDOL_len - 1]\n",
        "  IDOL_len -= 1\n",
        "print('바뀐 문자열 ==> ', IDOL_r) "
      ],
      "metadata": {
        "colab": {
          "base_uri": "https://localhost:8080/"
        },
        "id": "NPLygk8u75sS",
        "outputId": "eee95101-ea37-4642-df04-972ae2161c38"
      },
      "execution_count": 52,
      "outputs": [
        {
          "output_type": "stream",
          "name": "stdout",
          "text": [
            "원본 문자열 == > 트와이스\n",
            "바뀐 문자열 ==>  스이와트\n"
          ]
        }
      ]
    },
    {
      "cell_type": "markdown",
      "source": [
        "형성평가 3번"
      ],
      "metadata": {
        "id": "iMBdLjh9d8Cy"
      }
    },
    {
      "cell_type": "code",
      "source": [
        "str1 = input('원본 문자열을 입력 : ')\n",
        "str2 = \"\"\n",
        "for i in range(len(str1)):\n",
        "  if str1[i].isupper() :\n",
        "    str2 += str1[i].lower()\n",
        "  else :\n",
        "    str2 += str1[i].upper()\n",
        "print('바뀐 문자열 ==> ', str2)"
      ],
      "metadata": {
        "colab": {
          "base_uri": "https://localhost:8080/"
        },
        "id": "z9VpM63qd7jT",
        "outputId": "c4f46ea5-d38f-41fb-a83e-26ebae55d26f"
      },
      "execution_count": 76,
      "outputs": [
        {
          "output_type": "stream",
          "name": "stdout",
          "text": [
            "원본 문자열을 입력 : Python\n",
            "바뀐 문자열 ==>  pYTHON\n"
          ]
        }
      ]
    }
  ]
}