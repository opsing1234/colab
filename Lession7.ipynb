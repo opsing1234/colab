{
  "nbformat": 4,
  "nbformat_minor": 0,
  "metadata": {
    "colab": {
      "provenance": [],
      "authorship_tag": "ABX9TyOifahXt3G12L0Yfm/rX42p",
      "include_colab_link": true
    },
    "kernelspec": {
      "name": "python3",
      "display_name": "Python 3"
    },
    "language_info": {
      "name": "python"
    }
  },
  "cells": [
    {
      "cell_type": "markdown",
      "metadata": {
        "id": "view-in-github",
        "colab_type": "text"
      },
      "source": [
        "<a href=\"https://colab.research.google.com/github/opsing1234/colab/blob/main/Lession7.ipynb\" target=\"_parent\"><img src=\"https://colab.research.google.com/assets/colab-badge.svg\" alt=\"Open In Colab\"/></a>"
      ]
    },
    {
      "cell_type": "markdown",
      "source": [
        "형성평가 1번"
      ],
      "metadata": {
        "id": "Lf568wm4wtz-"
      }
    },
    {
      "cell_type": "code",
      "execution_count": 35,
      "metadata": {
        "colab": {
          "base_uri": "https://localhost:8080/"
        },
        "id": "ZTjrU2aUqaSv",
        "outputId": "84f9bafe-c1ae-4ad6-e190-4cdb97a81190"
      },
      "outputs": [
        {
          "output_type": "stream",
          "name": "stdout",
          "text": [
            "오늘의 명언 ==>  산다는것 그것은 치열한 전투이다\n"
          ]
        }
      ],
      "source": [
        "import random\n",
        "\n",
        "t_list = ['삶이 있는 한 희망은 있다', '산다는것 그것은 치열한 전투이다', '하루에 3시간을 걸으면 7년 후에 지구를 한바퀴 돌 수 있다', '언제나 현재에 집중할수 있다면 행복할것이다', '진정으로 웃으려면 고통을 참아야하며 , 나아가 고통을 즐길 줄 알아야 해']\n",
        "\n",
        "random_t = random.choice(t_list)\n",
        "\n",
        "print('오늘의 명언 ==> ', random_t)"
      ]
    },
    {
      "cell_type": "markdown",
      "source": [
        "2차원 리스트 예시"
      ],
      "metadata": {
        "id": "ul1N2FuN4Unk"
      }
    },
    {
      "cell_type": "code",
      "source": [
        "numlist2 = [[1, 2, 3, 4],\n",
        "            [5, 6, 7, 8],\n",
        "            [9, 10, 11, 12]]\n",
        "\n",
        "for i in range(0, 3) :\n",
        "  for k in range(0, 4) :\n",
        "    print(\"\", numlist2[i][k], end = '')\n",
        "  print('')"
      ],
      "metadata": {
        "colab": {
          "base_uri": "https://localhost:8080/"
        },
        "id": "SVO6rBZP64ob",
        "outputId": "39dae36d-9239-422f-b910-aa5b0a19f579"
      },
      "execution_count": 44,
      "outputs": [
        {
          "output_type": "stream",
          "name": "stdout",
          "text": [
            " 1 2 3 4\n",
            " 5 6 7 8\n",
            " 9 10 11 12\n"
          ]
        }
      ]
    },
    {
      "cell_type": "markdown",
      "source": [
        "형성평가 2번"
      ],
      "metadata": {
        "id": "1spgGumt8y4D"
      }
    },
    {
      "cell_type": "code",
      "source": [
        "print('홍길동 선수 경기 끝났습니다')\n",
        "\n",
        "s_list = []\n",
        "for i in range(0, 5) :\n",
        "  score = int(input('평가 점수 == > '))\n",
        "  s_list.append(score)\n",
        "\n",
        "hap = int(s_list[0]) + int(s_list[1]) + int(s_list[2]) + int(s_list[3]) + int(s_list[4])\n",
        "avg = hap / 5\n",
        "print('심사위원 평균 점수 : ', avg)"
      ],
      "metadata": {
        "colab": {
          "base_uri": "https://localhost:8080/"
        },
        "id": "FEsMM5R-81IT",
        "outputId": "90b5a0bf-5ae8-455e-c2c9-b339430079c1"
      },
      "execution_count": 50,
      "outputs": [
        {
          "output_type": "stream",
          "name": "stdout",
          "text": [
            "홍길동 선수 경기 끝났습니다\n",
            "평가 점수 == > 10\n",
            "평가 점수 == > 9\n",
            "평가 점수 == > 8\n",
            "평가 점수 == > 9\n",
            "평가 점수 == > 10\n",
            "심사위원 평균 점수 :  9.2\n"
          ]
        }
      ]
    }
  ]
}