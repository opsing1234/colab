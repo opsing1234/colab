{
  "nbformat": 4,
  "nbformat_minor": 0,
  "metadata": {
    "colab": {
      "name": "3114-안병건(논술형).ipynb",
      "provenance": [],
      "authorship_tag": "ABX9TyMxneIjwwuGHtRdY3ygZUvj",
      "include_colab_link": true
    },
    "kernelspec": {
      "name": "python3",
      "display_name": "Python 3"
    },
    "language_info": {
      "name": "python"
    }
  },
  "cells": [
    {
      "cell_type": "markdown",
      "metadata": {
        "id": "view-in-github",
        "colab_type": "text"
      },
      "source": [
        "<a href=\"https://colab.research.google.com/github/opsing1234/colab/blob/main/3114_%EC%95%88%EB%B3%91%EA%B1%B4(%EB%85%BC%EC%88%A0%ED%98%95).ipynb\" target=\"_parent\"><img src=\"https://colab.research.google.com/assets/colab-badge.svg\" alt=\"Open In Colab\"/></a>"
      ]
    },
    {
      "cell_type": "markdown",
      "source": [
        "2022학년도 응용프로그래밍 개발 - 논술형\n",
        "\n",
        "컴퓨터과 3학년 1반 14번 안병건"
      ],
      "metadata": {
        "id": "tWWF6eg46sAR"
      }
    },
    {
      "cell_type": "code",
      "execution_count": 3,
      "metadata": {
        "colab": {
          "base_uri": "https://localhost:8080/"
        },
        "id": "VVHKl3fP6kcp",
        "outputId": "d1bb4132-624a-45b6-a434-8c0398ab29d3"
      },
      "outputs": [
        {
          "output_type": "stream",
          "name": "stdout",
          "text": [
            "첫번째 숫자를 입력하세요 ==> 10\n",
            "두번째 숫자를 입력하세요 ==> 20\n",
            "10 + 20 = 30\n",
            "10 - 20 = -10\n",
            "10 * 20 = 200\n",
            "10 / 20 = 0.5\n",
            "10 // 20 = 0\n",
            "10 % 20 = 10\n",
            "10 ** 20 = 100000000000000000000\n"
          ]
        }
      ],
      "source": [
        "num1 = int(input('첫번째 숫자를 입력하세요 ==> '))\n",
        "num2 = int(input('두번째 숫자를 입력하세요 ==> '))\n",
        "\n",
        "result1 = num1 + num2\n",
        "result2 = num1 - num2\n",
        "result3 = num1 * num2\n",
        "result4 = num1 / num2\n",
        "result5 = num1 // num2\n",
        "result6 = num1 % num2\n",
        "result7 = num1 ** num2\n",
        "\n",
        "print(num1, '+', num2, '=', result1)\n",
        "print(num1, '-', num2, '=', result2)\n",
        "print(num1, '*', num2, '=', result3)\n",
        "print(num1, '/', num2, '=', result4)\n",
        "print(num1, '//', num2, '=', result5)\n",
        "print(num1, '%', num2, '=', result6)\n",
        "print(num1, '**', num2, '=', result7)"
      ]
    }
  ]
}