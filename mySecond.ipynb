{
  "nbformat": 4,
  "nbformat_minor": 0,
  "metadata": {
    "colab": {
      "name": "mySecond.ipynb",
      "provenance": [],
      "authorship_tag": "ABX9TyMCU+tV8BgS1kOOpM22pNcG",
      "include_colab_link": true
    },
    "kernelspec": {
      "name": "python3",
      "display_name": "Python 3"
    },
    "language_info": {
      "name": "python"
    }
  },
  "cells": [
    {
      "cell_type": "markdown",
      "metadata": {
        "id": "view-in-github",
        "colab_type": "text"
      },
      "source": [
        "<a href=\"https://colab.research.google.com/github/opsing1234/colab/blob/main/mySecond.ipynb\" target=\"_parent\"><img src=\"https://colab.research.google.com/assets/colab-badge.svg\" alt=\"Open In Colab\"/></a>"
      ]
    },
    {
      "cell_type": "code",
      "execution_count": 1,
      "metadata": {
        "colab": {
          "base_uri": "https://localhost:8080/"
        },
        "id": "Ys5qNzC5Qi9p",
        "outputId": "c2ba09be-5a7e-407b-d07d-ecc344ecd449"
      },
      "outputs": [
        {
          "output_type": "stream",
          "name": "stdout",
          "text": [
            "두번째 파일입니다.\n",
            "난생처음 파이썬을 공부하지만, 점점 익숙해지는 것 같아요. :)\n"
          ]
        }
      ],
      "source": [
        "print(\"두번째 파일입니다.\")\n",
        "print(\"난생처음 파이썬을 공부하지만, 점점 익숙해지는 것 같아요. :)\")"
      ]
    }
  ]
}