{
  "nbformat": 4,
  "nbformat_minor": 0,
  "metadata": {
    "colab": {
      "provenance": [],
      "authorship_tag": "ABX9TyN/WCm4/1DQb5tzn38N5J5t",
      "include_colab_link": true
    },
    "kernelspec": {
      "name": "python3",
      "display_name": "Python 3"
    },
    "language_info": {
      "name": "python"
    }
  },
  "cells": [
    {
      "cell_type": "markdown",
      "metadata": {
        "id": "view-in-github",
        "colab_type": "text"
      },
      "source": [
        "<a href=\"https://colab.research.google.com/github/opsing1234/colab/blob/main/Lession5.ipynb\" target=\"_parent\"><img src=\"https://colab.research.google.com/assets/colab-badge.svg\" alt=\"Open In Colab\"/></a>"
      ]
    },
    {
      "cell_type": "markdown",
      "source": [
        "if문 예제"
      ],
      "metadata": {
        "id": "z3kV-QO6QxCS"
      }
    },
    {
      "cell_type": "code",
      "execution_count": null,
      "metadata": {
        "colab": {
          "base_uri": "https://localhost:8080/"
        },
        "id": "A_nfyNKVQttt",
        "outputId": "0476f7ff-3e68-46be-cc36-91170bcfb1de"
      },
      "outputs": [
        {
          "output_type": "stream",
          "name": "stdout",
          "text": [
            "100보다 작습니다.\n"
          ]
        }
      ],
      "source": [
        "num = 99\n",
        "if num < 100 :\n",
        "  print('100보다 작습니다.')"
      ]
    },
    {
      "cell_type": "code",
      "source": [
        "num = int(input('숫자를 입력하세요 ==> '))\n",
        "if num % 2 == 0 :\n",
        "  print('짝수입니다.')\n",
        "if num % 2 == 1 :\n",
        "  print('홀수입니다')"
      ],
      "metadata": {
        "colab": {
          "base_uri": "https://localhost:8080/"
        },
        "id": "q4Zdqu4oQ-4y",
        "outputId": "84e6c6a6-1412-4d4b-cc6f-d6447b58f5b1"
      },
      "execution_count": null,
      "outputs": [
        {
          "output_type": "stream",
          "name": "stdout",
          "text": [
            "숫자를 입력하세요 ==> 10\n",
            "짝수입니다.\n"
          ]
        }
      ]
    },
    {
      "cell_type": "code",
      "source": [
        "num = int(input('정수를 입력 : '))\n",
        "if num % 2 == 0 :\n",
        "  print('짝수입니다')\n",
        "else :\n",
        "  print('홀수입니다')"
      ],
      "metadata": {
        "colab": {
          "base_uri": "https://localhost:8080/"
        },
        "id": "pdZYu_QCSnl4",
        "outputId": "770d5530-5b8a-475d-de89-fb86cd213de9"
      },
      "execution_count": null,
      "outputs": [
        {
          "output_type": "stream",
          "name": "stdout",
          "text": [
            "정수를 입력 : 30\n",
            "짝수입니다\n"
          ]
        }
      ]
    },
    {
      "cell_type": "markdown",
      "source": [
        "랜덤 함수\n",
        "\n",
        "import random"
      ],
      "metadata": {
        "id": "S80PmrsGUGsn"
      }
    },
    {
      "cell_type": "code",
      "source": [
        "import random\n",
        "print('숫자 맞추기 게임')\n",
        "num = random.randint(1, 45)\n",
        "\n",
        "while True :\n",
        "  a = int(input('숫자를 입력하세요 : '))\n",
        "  if num > a :\n",
        "    print('컴퓨터가 생각한 숫자보다 작습니다')\n",
        "  elif num < a :\n",
        "    print('컴퓨터가 생각한 숫자보다 큽니다')\n",
        "  else :\n",
        "    print('정답입니다')\n",
        "    break"
      ],
      "metadata": {
        "colab": {
          "base_uri": "https://localhost:8080/"
        },
        "id": "21USOR8zTylf",
        "outputId": "8c3122d0-53f6-41db-9ad5-15fe85d654fc"
      },
      "execution_count": null,
      "outputs": [
        {
          "output_type": "stream",
          "name": "stdout",
          "text": [
            "숫자를 입력하세요 : 10\n",
            "컴퓨터가 생각한 숫자보다 큽니다\n",
            "숫자를 입력하세요 : 5\n",
            "컴퓨터가 생각한 숫자보다 큽니다\n",
            "숫자를 입력하세요 : 2\n",
            "컴퓨터가 생각한 숫자보다 큽니다\n",
            "숫자를 입력하세요 : 1\n",
            "정답입니다\n"
          ]
        }
      ]
    },
    {
      "cell_type": "markdown",
      "source": [
        "가위 바위 보 게임"
      ],
      "metadata": {
        "id": "9DNu4I9IYDZu"
      }
    },
    {
      "cell_type": "code",
      "source": [
        "import random\n",
        "\n",
        "score = 0\n",
        "while score < 7 : \n",
        "  com = random.choice(['가위', '바위', '보'])\n",
        "  user = input('가위, 바위, 보 중에 하나를 입력 : ')\n",
        "  if user == com :\n",
        "    print('비겼습니다')\n",
        "  elif ((com == '바위') and (user == '보')) or ((com == '가위') and (user == '바위')) or ((com == '보') and (user == '가위')) :\n",
        "    print('이겼습니다')\n",
        "  else :\n",
        "    print('졌습니다')\n",
        "  score += 1"
      ],
      "metadata": {
        "id": "tI5EVFF6W6E2",
        "colab": {
          "base_uri": "https://localhost:8080/"
        },
        "outputId": "fc4d4f0b-4e19-4e53-a73f-0dc879e8c017"
      },
      "execution_count": 1,
      "outputs": [
        {
          "output_type": "stream",
          "name": "stdout",
          "text": [
            "가위, 바위, 보 중에 하나를 입력 : 보\n",
            "졌습니다\n",
            "가위, 바위, 보 중에 하나를 입력 : 가위\n",
            "졌습니다\n",
            "가위, 바위, 보 중에 하나를 입력 : 바위\n",
            "졌습니다\n",
            "가위, 바위, 보 중에 하나를 입력 : 바위\n",
            "이겼습니다\n",
            "가위, 바위, 보 중에 하나를 입력 : 보\n",
            "졌습니다\n",
            "가위, 바위, 보 중에 하나를 입력 : 가위\n",
            "이겼습니다\n",
            "가위, 바위, 보 중에 하나를 입력 : 보\n",
            "비겼습니다\n"
          ]
        }
      ]
    },
    {
      "cell_type": "markdown",
      "source": [
        "형성평가 1번"
      ],
      "metadata": {
        "id": "WCPgwk-ML7WR"
      }
    },
    {
      "cell_type": "code",
      "source": [
        "num1 = int(input('숫자를 입력 ==> '))\n",
        "\n",
        "if num1 > 100 :\n",
        "  if num1 < 1000 :\n",
        "    print('100보다 크고 1000보다 작다')\n",
        "  else :\n",
        "    print('1000보다 크다')\n",
        "else :\n",
        "  print('100보다 작다')"
      ],
      "metadata": {
        "colab": {
          "base_uri": "https://localhost:8080/"
        },
        "id": "HqBfy5nGL_Xi",
        "outputId": "487b6591-eb9c-415d-a916-a86f2a672bef"
      },
      "execution_count": 6,
      "outputs": [
        {
          "output_type": "stream",
          "name": "stdout",
          "text": [
            "숫자를 입력 ==> 1001\n",
            "1000보다 크다\n"
          ]
        }
      ]
    },
    {
      "cell_type": "markdown",
      "source": [
        "형성평가 2번"
      ],
      "metadata": {
        "id": "ZYBxkl8aM_Kg"
      }
    },
    {
      "cell_type": "code",
      "source": [
        "score = int(input('점수를 입력 ==> '))\n",
        "\n",
        "if score >= 90 :\n",
        "  print('A학점')\n",
        "else : \n",
        "  if score >= 80 :\n",
        "    print('B학점')\n",
        "  else :\n",
        "    if score >= 70 :\n",
        "      print('C학점')\n",
        "    else :\n",
        "      if score >= 60 :\n",
        "        print('D학점')\n",
        "      else :\n",
        "        print('F학점')"
      ],
      "metadata": {
        "colab": {
          "base_uri": "https://localhost:8080/"
        },
        "id": "7RXdvMQLNBkP",
        "outputId": "14748bb9-f98b-467a-937a-1cf78c514d9a"
      },
      "execution_count": 19,
      "outputs": [
        {
          "output_type": "stream",
          "name": "stdout",
          "text": [
            "점수를 입력 ==> 90\n",
            "A학점\n"
          ]
        }
      ]
    },
    {
      "cell_type": "markdown",
      "source": [
        "elif 예제"
      ],
      "metadata": {
        "id": "VaPBBhZIPTCI"
      }
    },
    {
      "cell_type": "code",
      "source": [
        "score = int(input('점수를 입력 ==> '))\n",
        "\n",
        "if score >= 90 :\n",
        "  print('A학점')\n",
        "elif score >= 80 :\n",
        "  print('B학점')\n",
        "elif score >= 70 :\n",
        "  print('C학점')\n",
        "elif score >= 60 :\n",
        "  print('D학점')\n",
        "else :\n",
        "  print('F학점')"
      ],
      "metadata": {
        "colab": {
          "base_uri": "https://localhost:8080/"
        },
        "id": "V39iyYXsPccQ",
        "outputId": "c8a21f4f-98fe-4428-e526-bfcc4902134c"
      },
      "execution_count": 24,
      "outputs": [
        {
          "output_type": "stream",
          "name": "stdout",
          "text": [
            "점수를 입력 ==> 50\n",
            "F학점\n"
          ]
        }
      ]
    },
    {
      "cell_type": "markdown",
      "source": [
        "형성평가 3번"
      ],
      "metadata": {
        "id": "XxBdkuS2Qo6g"
      }
    },
    {
      "cell_type": "code",
      "source": [
        "age = int(input('나이를 입력 ==> '))\n",
        "\n",
        "if age <= 18 :\n",
        "  print('집에 갈 시간이네요')\n",
        "else :\n",
        "  print('확인했습니다')\n",
        "print('협조 감사합니다')"
      ],
      "metadata": {
        "colab": {
          "base_uri": "https://localhost:8080/"
        },
        "id": "FLaNsSwdQr1I",
        "outputId": "8effd24a-3290-4bed-e15a-51aa21d7d4c8"
      },
      "execution_count": 31,
      "outputs": [
        {
          "output_type": "stream",
          "name": "stdout",
          "text": [
            "나이를 입력 ==> 19\n",
            "확인했습니다\n",
            "협조 감사합니다\n"
          ]
        }
      ]
    },
    {
      "cell_type": "markdown",
      "source": [
        "거북이 실전 예제"
      ],
      "metadata": {
        "id": "O7NCppUinPrG"
      }
    },
    {
      "cell_type": "code",
      "source": [
        "#!pip3 install ColabTurtle\n",
        "import ColabTurtle.Turtle as turtle\n",
        "import random\n",
        "print(turtle.DEFAULT_WINDOW_SIZE)\n",
        "turtle.initializeTurtle()\n",
        "\n",
        "while True :\n",
        "  turtle.left(random.randint(0,360))\n",
        "  turtle.color(random.randint(0,255), random.randint(0,255), random.randint(0,255))\n",
        "  turtle.forward(random.randint(100,200))\n",
        "  if 800 <= turtle.getx() or turtle.getx() <= 0 or 500 <= turtle.gety() or turtle.gety() <= 0 :\n",
        "    turtle.goto(400.250)"
      ],
      "metadata": {
        "colab": {
          "base_uri": "https://localhost:8080/",
          "height": 919
        },
        "id": "kmdOjXT7nUWM",
        "outputId": "698731e2-bb10-432e-9bdf-ee5db34f7d20"
      },
      "execution_count": 56,
      "outputs": [
        {
          "output_type": "stream",
          "name": "stdout",
          "text": [
            "(800, 500)\n"
          ]
        },
        {
          "output_type": "display_data",
          "data": {
            "text/plain": [
              "<IPython.core.display.HTML object>"
            ],
            "text/html": [
              "\n",
              "      <svg width=\"800\" height=\"500\">\n",
              "        <rect width=\"100%\" height=\"100%\" fill=\"black\"/>\n",
              "        <line x1=\"400\" y1=\"250\" x2=\"453.697\" y2=\"102.468\" stroke-linecap=\"round\" style=\"stroke:rgb(127,62,114);stroke-width:4\"/><line x1=\"453.697\" y1=\"102.468\" x2=\"360.257\" y2=\"32.056\" stroke-linecap=\"round\" style=\"stroke:rgb(93,14,58);stroke-width:4\"/><line x1=\"360.257\" y1=\"32.056\" x2=\"315.879\" y2=\"186.819\" stroke-linecap=\"round\" style=\"stroke:rgb(168,43,102);stroke-width:4\"/><line x1=\"315.879\" y1=\"186.819\" x2=\"228.417\" y2=\"235.3\" stroke-linecap=\"round\" style=\"stroke:rgb(74,28,154);stroke-width:4\"/><line x1=\"228.417\" y1=\"235.3\" x2=\"263.645\" y2=\"138.512\" stroke-linecap=\"round\" style=\"stroke:rgb(194,209,229);stroke-width:4\"/><line x1=\"263.645\" y1=\"138.512\" x2=\"402.901\" y2=\"41.004\" stroke-linecap=\"round\" style=\"stroke:rgb(33,157,75);stroke-width:4\"/><line x1=\"402.901\" y1=\"41.004\" x2=\"456.47\" y2=\"173.591\" stroke-linecap=\"round\" style=\"stroke:rgb(185,130,216);stroke-width:4\"/><line x1=\"456.47\" y1=\"173.591\" x2=\"369.689\" y2=\"330.148\" stroke-linecap=\"round\" style=\"stroke:rgb(172,25,97);stroke-width:4\"/><line x1=\"369.689\" y1=\"330.148\" x2=\"318.388\" y2=\"430.832\" stroke-linecap=\"round\" style=\"stroke:rgb(161,248,18);stroke-width:4\"/><line x1=\"318.388\" y1=\"430.832\" x2=\"425.372\" y2=\"432.699\" stroke-linecap=\"round\" style=\"stroke:rgb(29,166,189);stroke-width:4\"/><line x1=\"425.372\" y1=\"432.699\" x2=\"504.999\" y2=\"344.265\" stroke-linecap=\"round\" style=\"stroke:rgb(91,120,219);stroke-width:4\"/><line x1=\"504.999\" y1=\"344.265\" x2=\"372.138\" y2=\"264.434\" stroke-linecap=\"round\" style=\"stroke:rgb(51,0,218);stroke-width:4\"/><line x1=\"372.138\" y1=\"264.434\" x2=\"501.906\" y2=\"214.621\" stroke-linecap=\"round\" style=\"stroke:rgb(171,232,58);stroke-width:4\"/><line x1=\"501.906\" y1=\"214.621\" x2=\"428.36\" y2=\"358.964\" stroke-linecap=\"round\" style=\"stroke:rgb(233,5,0);stroke-width:4\"/>\n",
              "        <g visibility=visible transform=\"rotate(196,428.36,358.964) translate(410.36, 340.964)\">\n",
              "<path style=\" stroke:none;fill-rule:evenodd;fill:rgb(233,5,0);fill-opacity:1;\" d=\"M 18.214844 0.632812 C 16.109375 1.800781 15.011719 4.074219 15.074219 7.132812 L 15.085938 7.652344 L 14.785156 7.496094 C 13.476562 6.824219 11.957031 6.671875 10.40625 7.066406 C 8.46875 7.550781 6.515625 9.15625 4.394531 11.992188 C 3.0625 13.777344 2.679688 14.636719 3.042969 15.027344 L 3.15625 15.152344 L 3.519531 15.152344 C 4.238281 15.152344 4.828125 14.886719 8.1875 13.039062 C 9.386719 12.378906 10.371094 11.839844 10.378906 11.839844 C 10.386719 11.839844 10.355469 11.929688 10.304688 12.035156 C 9.832031 13.09375 9.257812 14.820312 8.96875 16.078125 C 7.914062 20.652344 8.617188 24.53125 11.070312 27.660156 C 11.351562 28.015625 11.363281 27.914062 10.972656 28.382812 C 8.925781 30.84375 7.945312 33.28125 8.238281 35.1875 C 8.289062 35.527344 8.28125 35.523438 8.917969 35.523438 C 10.941406 35.523438 13.074219 34.207031 15.136719 31.6875 C 15.359375 31.417969 15.328125 31.425781 15.5625 31.574219 C 16.292969 32.042969 18.023438 32.964844 18.175781 32.964844 C 18.335938 32.964844 19.941406 32.210938 20.828125 31.71875 C 20.996094 31.625 21.136719 31.554688 21.136719 31.558594 C 21.203125 31.664062 21.898438 32.414062 22.222656 32.730469 C 23.835938 34.300781 25.5625 35.132812 27.582031 35.300781 C 27.90625 35.328125 27.9375 35.308594 28.007812 34.984375 C 28.382812 33.242188 27.625 30.925781 25.863281 28.425781 L 25.542969 27.96875 L 25.699219 27.785156 C 28.945312 23.960938 29.132812 18.699219 26.257812 11.96875 L 26.207031 11.84375 L 27.945312 12.703125 C 31.53125 14.476562 32.316406 14.800781 33.03125 14.800781 C 33.976562 14.800781 33.78125 13.9375 32.472656 12.292969 C 28.519531 7.355469 25.394531 5.925781 21.921875 7.472656 L 21.558594 7.636719 L 21.578125 7.542969 C 21.699219 6.992188 21.761719 5.742188 21.699219 5.164062 C 21.496094 3.296875 20.664062 1.964844 19.003906 0.855469 C 18.480469 0.503906 18.457031 0.5 18.214844 0.632812\"/>\n",
              "</g>\n",
              "      </svg>\n",
              "    "
            ]
          },
          "metadata": {}
        },
        {
          "output_type": "error",
          "ename": "KeyboardInterrupt",
          "evalue": "ignored",
          "traceback": [
            "\u001b[0;31m---------------------------------------------------------------------------\u001b[0m",
            "\u001b[0;31mKeyboardInterrupt\u001b[0m                         Traceback (most recent call last)",
            "\u001b[0;32m<ipython-input-56-82dcea85fa99>\u001b[0m in \u001b[0;36m<module>\u001b[0;34m\u001b[0m\n\u001b[1;32m      7\u001b[0m \u001b[0;32mwhile\u001b[0m \u001b[0;32mTrue\u001b[0m \u001b[0;34m:\u001b[0m\u001b[0;34m\u001b[0m\u001b[0;34m\u001b[0m\u001b[0m\n\u001b[1;32m      8\u001b[0m   \u001b[0mturtle\u001b[0m\u001b[0;34m.\u001b[0m\u001b[0mleft\u001b[0m\u001b[0;34m(\u001b[0m\u001b[0mrandom\u001b[0m\u001b[0;34m.\u001b[0m\u001b[0mrandint\u001b[0m\u001b[0;34m(\u001b[0m\u001b[0;36m0\u001b[0m\u001b[0;34m,\u001b[0m\u001b[0;36m360\u001b[0m\u001b[0;34m)\u001b[0m\u001b[0;34m)\u001b[0m\u001b[0;34m\u001b[0m\u001b[0;34m\u001b[0m\u001b[0m\n\u001b[0;32m----> 9\u001b[0;31m   \u001b[0mturtle\u001b[0m\u001b[0;34m.\u001b[0m\u001b[0mcolor\u001b[0m\u001b[0;34m(\u001b[0m\u001b[0mrandom\u001b[0m\u001b[0;34m.\u001b[0m\u001b[0mrandint\u001b[0m\u001b[0;34m(\u001b[0m\u001b[0;36m0\u001b[0m\u001b[0;34m,\u001b[0m\u001b[0;36m255\u001b[0m\u001b[0;34m)\u001b[0m\u001b[0;34m,\u001b[0m \u001b[0mrandom\u001b[0m\u001b[0;34m.\u001b[0m\u001b[0mrandint\u001b[0m\u001b[0;34m(\u001b[0m\u001b[0;36m0\u001b[0m\u001b[0;34m,\u001b[0m\u001b[0;36m255\u001b[0m\u001b[0;34m)\u001b[0m\u001b[0;34m,\u001b[0m \u001b[0mrandom\u001b[0m\u001b[0;34m.\u001b[0m\u001b[0mrandint\u001b[0m\u001b[0;34m(\u001b[0m\u001b[0;36m0\u001b[0m\u001b[0;34m,\u001b[0m\u001b[0;36m255\u001b[0m\u001b[0;34m)\u001b[0m\u001b[0;34m)\u001b[0m\u001b[0;34m\u001b[0m\u001b[0;34m\u001b[0m\u001b[0m\n\u001b[0m\u001b[1;32m     10\u001b[0m   \u001b[0mturtle\u001b[0m\u001b[0;34m.\u001b[0m\u001b[0mforward\u001b[0m\u001b[0;34m(\u001b[0m\u001b[0mrandom\u001b[0m\u001b[0;34m.\u001b[0m\u001b[0mrandint\u001b[0m\u001b[0;34m(\u001b[0m\u001b[0;36m100\u001b[0m\u001b[0;34m,\u001b[0m\u001b[0;36m200\u001b[0m\u001b[0;34m)\u001b[0m\u001b[0;34m)\u001b[0m\u001b[0;34m\u001b[0m\u001b[0;34m\u001b[0m\u001b[0m\n\u001b[1;32m     11\u001b[0m   \u001b[0;32mif\u001b[0m \u001b[0;36m800\u001b[0m \u001b[0;34m<=\u001b[0m \u001b[0mturtle\u001b[0m\u001b[0;34m.\u001b[0m\u001b[0mgetx\u001b[0m\u001b[0;34m(\u001b[0m\u001b[0;34m)\u001b[0m \u001b[0;32mor\u001b[0m \u001b[0mturtle\u001b[0m\u001b[0;34m.\u001b[0m\u001b[0mgetx\u001b[0m\u001b[0;34m(\u001b[0m\u001b[0;34m)\u001b[0m \u001b[0;34m<=\u001b[0m \u001b[0;36m0\u001b[0m \u001b[0;32mor\u001b[0m \u001b[0;36m500\u001b[0m \u001b[0;34m<=\u001b[0m \u001b[0mturtle\u001b[0m\u001b[0;34m.\u001b[0m\u001b[0mgety\u001b[0m\u001b[0;34m(\u001b[0m\u001b[0;34m)\u001b[0m \u001b[0;32mor\u001b[0m \u001b[0mturtle\u001b[0m\u001b[0;34m.\u001b[0m\u001b[0mgety\u001b[0m\u001b[0;34m(\u001b[0m\u001b[0;34m)\u001b[0m \u001b[0;34m<=\u001b[0m \u001b[0;36m0\u001b[0m \u001b[0;34m:\u001b[0m\u001b[0;34m\u001b[0m\u001b[0;34m\u001b[0m\u001b[0m\n",
            "\u001b[0;32m/usr/local/lib/python3.7/dist-packages/ColabTurtle/Turtle.py\u001b[0m in \u001b[0;36mcolor\u001b[0;34m(color, c2, c3)\u001b[0m\n\u001b[1;32m    410\u001b[0m \u001b[0;34m\u001b[0m\u001b[0m\n\u001b[1;32m    411\u001b[0m     \u001b[0mpen_color\u001b[0m \u001b[0;34m=\u001b[0m \u001b[0m_processColor\u001b[0m\u001b[0;34m(\u001b[0m\u001b[0mcolor\u001b[0m\u001b[0;34m)\u001b[0m\u001b[0;34m\u001b[0m\u001b[0;34m\u001b[0m\u001b[0m\n\u001b[0;32m--> 412\u001b[0;31m     \u001b[0m_updateDrawing\u001b[0m\u001b[0;34m(\u001b[0m\u001b[0;34m)\u001b[0m\u001b[0;34m\u001b[0m\u001b[0;34m\u001b[0m\u001b[0m\n\u001b[0m\u001b[1;32m    413\u001b[0m \u001b[0;34m\u001b[0m\u001b[0m\n\u001b[1;32m    414\u001b[0m \u001b[0mpencolor\u001b[0m \u001b[0;34m=\u001b[0m \u001b[0mcolor\u001b[0m\u001b[0;34m\u001b[0m\u001b[0;34m\u001b[0m\u001b[0m\n",
            "\u001b[0;32m/usr/local/lib/python3.7/dist-packages/ColabTurtle/Turtle.py\u001b[0m in \u001b[0;36m_updateDrawing\u001b[0;34m()\u001b[0m\n\u001b[1;32m    143\u001b[0m     \u001b[0;32mif\u001b[0m \u001b[0mdrawing_window\u001b[0m \u001b[0;34m==\u001b[0m \u001b[0;32mNone\u001b[0m\u001b[0;34m:\u001b[0m\u001b[0;34m\u001b[0m\u001b[0;34m\u001b[0m\u001b[0m\n\u001b[1;32m    144\u001b[0m         \u001b[0;32mraise\u001b[0m \u001b[0mAttributeError\u001b[0m\u001b[0;34m(\u001b[0m\u001b[0;34m\"Display has not been initialized yet. Call initializeTurtle() before using.\"\u001b[0m\u001b[0;34m)\u001b[0m\u001b[0;34m\u001b[0m\u001b[0;34m\u001b[0m\u001b[0m\n\u001b[0;32m--> 145\u001b[0;31m     \u001b[0mtime\u001b[0m\u001b[0;34m.\u001b[0m\u001b[0msleep\u001b[0m\u001b[0;34m(\u001b[0m\u001b[0m_speedToSec\u001b[0m\u001b[0;34m(\u001b[0m\u001b[0mturtle_speed\u001b[0m\u001b[0;34m)\u001b[0m\u001b[0;34m)\u001b[0m\u001b[0;34m\u001b[0m\u001b[0;34m\u001b[0m\u001b[0m\n\u001b[0m\u001b[1;32m    146\u001b[0m     \u001b[0mdrawing_window\u001b[0m\u001b[0;34m.\u001b[0m\u001b[0mupdate\u001b[0m\u001b[0;34m(\u001b[0m\u001b[0mHTML\u001b[0m\u001b[0;34m(\u001b[0m\u001b[0m_generateSvgDrawing\u001b[0m\u001b[0;34m(\u001b[0m\u001b[0;34m)\u001b[0m\u001b[0;34m)\u001b[0m\u001b[0;34m)\u001b[0m\u001b[0;34m\u001b[0m\u001b[0;34m\u001b[0m\u001b[0m\n\u001b[1;32m    147\u001b[0m \u001b[0;34m\u001b[0m\u001b[0m\n",
            "\u001b[0;31mKeyboardInterrupt\u001b[0m: "
          ]
        }
      ]
    }
  ]
}