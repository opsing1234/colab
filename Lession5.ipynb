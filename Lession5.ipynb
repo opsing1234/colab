{
  "nbformat": 4,
  "nbformat_minor": 0,
  "metadata": {
    "colab": {
      "name": "Lession5.ipynb",
      "provenance": [],
      "authorship_tag": "ABX9TyM76Jv9IXMzg5ZuwRi2+mE0",
      "include_colab_link": true
    },
    "kernelspec": {
      "name": "python3",
      "display_name": "Python 3"
    },
    "language_info": {
      "name": "python"
    }
  },
  "cells": [
    {
      "cell_type": "markdown",
      "metadata": {
        "id": "view-in-github",
        "colab_type": "text"
      },
      "source": [
        "<a href=\"https://colab.research.google.com/github/opsing1234/colab/blob/main/Lession5.ipynb\" target=\"_parent\"><img src=\"https://colab.research.google.com/assets/colab-badge.svg\" alt=\"Open In Colab\"/></a>"
      ]
    },
    {
      "cell_type": "markdown",
      "source": [
        "if문 예제"
      ],
      "metadata": {
        "id": "z3kV-QO6QxCS"
      }
    },
    {
      "cell_type": "code",
      "execution_count": 1,
      "metadata": {
        "colab": {
          "base_uri": "https://localhost:8080/"
        },
        "id": "A_nfyNKVQttt",
        "outputId": "0476f7ff-3e68-46be-cc36-91170bcfb1de"
      },
      "outputs": [
        {
          "output_type": "stream",
          "name": "stdout",
          "text": [
            "100보다 작습니다.\n"
          ]
        }
      ],
      "source": [
        "num = 99\n",
        "if num < 100 :\n",
        "  print('100보다 작습니다.')"
      ]
    },
    {
      "cell_type": "code",
      "source": [
        "num = int(input('숫자를 입력하세요 ==> '))\n",
        "if num % 2 == 0 :\n",
        "  print('짝수입니다.')\n",
        "if num % 2 == 1 :\n",
        "  print('홀수입니다')"
      ],
      "metadata": {
        "colab": {
          "base_uri": "https://localhost:8080/"
        },
        "id": "q4Zdqu4oQ-4y",
        "outputId": "84e6c6a6-1412-4d4b-cc6f-d6447b58f5b1"
      },
      "execution_count": 5,
      "outputs": [
        {
          "output_type": "stream",
          "name": "stdout",
          "text": [
            "숫자를 입력하세요 ==> 10\n",
            "짝수입니다.\n"
          ]
        }
      ]
    }
  ]
}