{
  "nbformat": 4,
  "nbformat_minor": 0,
  "metadata": {
    "colab": {
      "name": "Lession3-1.ipynb",
      "provenance": [],
      "collapsed_sections": [],
      "authorship_tag": "ABX9TyOCHfsqwu91Zsqrffyk8Nnf",
      "include_colab_link": true
    },
    "kernelspec": {
      "name": "python3",
      "display_name": "Python 3"
    },
    "language_info": {
      "name": "python"
    }
  },
  "cells": [
    {
      "cell_type": "markdown",
      "metadata": {
        "id": "view-in-github",
        "colab_type": "text"
      },
      "source": [
        "<a href=\"https://colab.research.google.com/github/opsing1234/colab/blob/main/Lession3_1.ipynb\" target=\"_parent\"><img src=\"https://colab.research.google.com/assets/colab-badge.svg\" alt=\"Open In Colab\"/></a>"
      ]
    },
    {
      "cell_type": "markdown",
      "source": [
        "연산자 예제"
      ],
      "metadata": {
        "id": "epQCbHce4XIX"
      }
    },
    {
      "cell_type": "code",
      "execution_count": null,
      "metadata": {
        "colab": {
          "base_uri": "https://localhost:8080/"
        },
        "id": "VbX5Awu535Is",
        "outputId": "05fe73ba-15b9-4b10-8b88-24436c2d17f3"
      },
      "outputs": [
        {
          "output_type": "stream",
          "name": "stdout",
          "text": [
            "나눠지는 수 ==> 25\n",
            "나누는 수 ==> 10\n",
            "25 을(를) 10 (으)로 나눈 몫은  2 입니다.\n",
            "25 을(를) 10 (으)로 나눈 나머지는  5 입니다.\n"
          ]
        }
      ],
      "source": [
        "num1 = int(input(\"나눠지는 수 ==> \"))\n",
        "num2 = int(input(\"나누는 수 ==> \"))\n",
        "\n",
        "q = num1 // num2\n",
        "r = num1 % num2\n",
        "\n",
        "print(num1, '을(를)', num2, '(으)로 나눈 몫은 ', q, '입니다.')\n",
        "print(num1, '을(를)', num2, '(으)로 나눈 나머지는 ', r, '입니다.')"
      ]
    },
    {
      "cell_type": "markdown",
      "source": [
        "홀수, 짝수 구별 프로그램"
      ],
      "metadata": {
        "id": "IxKfPdQ65Rv1"
      }
    },
    {
      "cell_type": "code",
      "source": [
        "num = int(input(\"정수 입력 ==> \"))\n",
        "\n",
        "if num % 2 == 0 :\n",
        "  print(num, '은 짝수입니다')\n",
        "else :\n",
        "  print(num, '은 홀수입니다')"
      ],
      "metadata": {
        "colab": {
          "base_uri": "https://localhost:8080/"
        },
        "id": "cntsAiLM5Z_N",
        "outputId": "0a85fcd0-79e4-4233-b997-5ecad2990f67"
      },
      "execution_count": null,
      "outputs": [
        {
          "output_type": "stream",
          "name": "stdout",
          "text": [
            "정수 입력 ==> 10\n",
            "10 은 짝수입니다\n"
          ]
        }
      ]
    },
    {
      "cell_type": "markdown",
      "source": [
        "형성평가 1번"
      ],
      "metadata": {
        "id": "dowAZ4n76qn1"
      }
    },
    {
      "cell_type": "code",
      "source": [
        "lb = int(input('파운드(lb)를 입력하세요 : '))\n",
        "print(lb, '파운드(lb)는 ', round(lb * 0.453592, 5), '킬로그램(kg) 입니다.')\n",
        "\n",
        "kg = int(input('킬로그램(kg)을 입력하세요 : '))\n",
        "print(kg, '킬로그램(kg)은 ', round(kg * 2.204623, 5), '파운드(lb)입니다.')"
      ],
      "metadata": {
        "colab": {
          "base_uri": "https://localhost:8080/"
        },
        "id": "Jq9gDtSY6o8F",
        "outputId": "e9c0a335-8fdf-436a-ee03-62f648ddae49"
      },
      "execution_count": null,
      "outputs": [
        {
          "output_type": "stream",
          "name": "stdout",
          "text": [
            "파운드(lb)를 입력하세요 : 15\n",
            "15 파운드(lb)는  6.80388 킬로그램(kg) 입니다.\n",
            "킬로그램(kg)을 입력하세요 : 15\n",
            "15 킬로그램(kg)은  33.06935 파운드(lb)입니다.\n"
          ]
        }
      ]
    },
    {
      "cell_type": "markdown",
      "source": [
        "bmi 계산기\n",
        "bmi = kg / m x m"
      ],
      "metadata": {
        "id": "Lmypny_I9mk1"
      }
    },
    {
      "cell_type": "code",
      "source": [
        "weight = float(input('몸무게를 입력 ==> '))\n",
        "height = float(input('키(신장)를 입력 ==> '))\n",
        "height = height * 0.01\n",
        "bmi = weight / (height * height)\n",
        "print('당신의 bmi : ', round(bmi, 3))"
      ],
      "metadata": {
        "colab": {
          "base_uri": "https://localhost:8080/"
        },
        "id": "aPLPDMYT9pL9",
        "outputId": "7412f319-9466-43de-9ae0-1da59722d891"
      },
      "execution_count": null,
      "outputs": [
        {
          "output_type": "stream",
          "name": "stdout",
          "text": [
            "몸무게를 입력 ==> 85\n",
            "키(신장)를 입력 ==> 177\n",
            "당신의 bmi :  27.131\n"
          ]
        }
      ]
    },
    {
      "cell_type": "markdown",
      "source": [
        "형성평가 2번"
      ],
      "metadata": {
        "id": "Qy52b-Wx_P0c"
      }
    },
    {
      "cell_type": "code",
      "source": [
        "today = 0 \n",
        "\n",
        "today -= 900 * 10\n",
        "today -= 3500 * 5\n",
        "\n",
        "today += 1800 * 2\n",
        "today += 4000 * 4\n",
        "today += 1500 * 1\n",
        "today += 2000 * 4\n",
        "today += 1800 * 5\n",
        "\n",
        "print('오늘 총 매출액은 ', today, '원입니다.')"
      ],
      "metadata": {
        "colab": {
          "base_uri": "https://localhost:8080/"
        },
        "id": "fd76bH4u_c9k",
        "outputId": "c27e804f-b6dd-4540-c249-83b9a4be6e4b"
      },
      "execution_count": null,
      "outputs": [
        {
          "output_type": "stream",
          "name": "stdout",
          "text": [
            "오늘 총 매출액은  11600 원입니다.\n"
          ]
        }
      ]
    },
    {
      "cell_type": "markdown",
      "source": [
        "비교 연산자 예제"
      ],
      "metadata": {
        "id": "cKPEAsvjE0Rc"
      }
    },
    {
      "cell_type": "code",
      "source": [
        "score = int(input('필기 시험 점수를 입력하세요 ==> '))\n",
        "print(score >= 70)"
      ],
      "metadata": {
        "colab": {
          "base_uri": "https://localhost:8080/"
        },
        "id": "0QY_KApgE27y",
        "outputId": "13d2b1f3-47ad-43c6-918b-b241d6065e55"
      },
      "execution_count": null,
      "outputs": [
        {
          "output_type": "stream",
          "name": "stdout",
          "text": [
            "필기 시험 점수를 입력하세요 ==> 80\n",
            "True\n"
          ]
        }
      ]
    },
    {
      "cell_type": "markdown",
      "source": [
        "형성평가 3번"
      ],
      "metadata": {
        "id": "PideT0SfFTES"
      }
    },
    {
      "cell_type": "code",
      "source": [
        "pyt = 3\n",
        "mob = 2\n",
        "exl = 1\n",
        "\n",
        "B = 3.5\n",
        "A0 = 4.0\n",
        "A = 4.5\n",
        "\n",
        "avg = ((exl * A) + (mob * A0) + (pyt * B)) / (exl + mob + pyt)\n",
        "print(round(avg, 2)) "
      ],
      "metadata": {
        "colab": {
          "base_uri": "https://localhost:8080/"
        },
        "id": "N-_vbxM6FVmz",
        "outputId": "8fb5ff43-8a89-4fc3-c410-6e45e3fea5ad"
      },
      "execution_count": null,
      "outputs": [
        {
          "output_type": "stream",
          "name": "stdout",
          "text": [
            "3.83\n"
          ]
        }
      ]
    },
    {
      "cell_type": "markdown",
      "source": [
        "3장 거북이 예제"
      ],
      "metadata": {
        "id": "eb69Po84HLeM"
      }
    },
    {
      "cell_type": "code",
      "source": [
        "#!pip3 install ColabTurtle\n",
        "import ColabTurtle.Turtle as turtle\n",
        "turtle.initializeTurtle()\n",
        "turtle.pencolor('blue')\n",
        "turtle.pensize(5)\n",
        "\n",
        "while True :\n",
        "  turtle.left(int(input('거북이의 회전 각도 : ')))\n",
        "  turtle.forward(int(input('거북이의 이동 거리 : ')))"
      ],
      "metadata": {
        "colab": {
          "base_uri": "https://localhost:8080/",
          "height": 1000
        },
        "id": "7gcEJ4IoHWCT",
        "outputId": "39088f6d-d8bb-41d4-95cc-019f782ecbcf"
      },
      "execution_count": 36,
      "outputs": [
        {
          "output_type": "display_data",
          "data": {
            "text/plain": [
              "<IPython.core.display.HTML object>"
            ],
            "text/html": [
              "\n",
              "      <svg width=\"800\" height=\"500\">\n",
              "        <rect width=\"100%\" height=\"100%\" fill=\"black\"/>\n",
              "        <line x1=\"400\" y1=\"250\" x2=\"300.0\" y2=\"250.0\" stroke-linecap=\"round\" style=\"stroke:blue;stroke-width:5\"/><line x1=\"300.0\" y1=\"250.0\" x2=\"300.0\" y2=\"350.0\" stroke-linecap=\"round\" style=\"stroke:blue;stroke-width:5\"/><line x1=\"300.0\" y1=\"350.0\" x2=\"400.0\" y2=\"350.0\" stroke-linecap=\"round\" style=\"stroke:blue;stroke-width:5\"/><line x1=\"400.0\" y1=\"350.0\" x2=\"400.0\" y2=\"350.0\" stroke-linecap=\"round\" style=\"stroke:blue;stroke-width:5\"/><line x1=\"400.0\" y1=\"350.0\" x2=\"400.0\" y2=\"250.0\" stroke-linecap=\"round\" style=\"stroke:blue;stroke-width:5\"/><line x1=\"400.0\" y1=\"250.0\" x2=\"293.934\" y2=\"356.066\" stroke-linecap=\"round\" style=\"stroke:blue;stroke-width:5\"/>\n",
              "        <g visibility=visible transform=\"rotate(90,293.934,356.066) translate(275.934, 338.066)\">\n",
              "<path style=\" stroke:none;fill-rule:evenodd;fill:blue;fill-opacity:1;\" d=\"M 18.214844 0.632812 C 16.109375 1.800781 15.011719 4.074219 15.074219 7.132812 L 15.085938 7.652344 L 14.785156 7.496094 C 13.476562 6.824219 11.957031 6.671875 10.40625 7.066406 C 8.46875 7.550781 6.515625 9.15625 4.394531 11.992188 C 3.0625 13.777344 2.679688 14.636719 3.042969 15.027344 L 3.15625 15.152344 L 3.519531 15.152344 C 4.238281 15.152344 4.828125 14.886719 8.1875 13.039062 C 9.386719 12.378906 10.371094 11.839844 10.378906 11.839844 C 10.386719 11.839844 10.355469 11.929688 10.304688 12.035156 C 9.832031 13.09375 9.257812 14.820312 8.96875 16.078125 C 7.914062 20.652344 8.617188 24.53125 11.070312 27.660156 C 11.351562 28.015625 11.363281 27.914062 10.972656 28.382812 C 8.925781 30.84375 7.945312 33.28125 8.238281 35.1875 C 8.289062 35.527344 8.28125 35.523438 8.917969 35.523438 C 10.941406 35.523438 13.074219 34.207031 15.136719 31.6875 C 15.359375 31.417969 15.328125 31.425781 15.5625 31.574219 C 16.292969 32.042969 18.023438 32.964844 18.175781 32.964844 C 18.335938 32.964844 19.941406 32.210938 20.828125 31.71875 C 20.996094 31.625 21.136719 31.554688 21.136719 31.558594 C 21.203125 31.664062 21.898438 32.414062 22.222656 32.730469 C 23.835938 34.300781 25.5625 35.132812 27.582031 35.300781 C 27.90625 35.328125 27.9375 35.308594 28.007812 34.984375 C 28.382812 33.242188 27.625 30.925781 25.863281 28.425781 L 25.542969 27.96875 L 25.699219 27.785156 C 28.945312 23.960938 29.132812 18.699219 26.257812 11.96875 L 26.207031 11.84375 L 27.945312 12.703125 C 31.53125 14.476562 32.316406 14.800781 33.03125 14.800781 C 33.976562 14.800781 33.78125 13.9375 32.472656 12.292969 C 28.519531 7.355469 25.394531 5.925781 21.921875 7.472656 L 21.558594 7.636719 L 21.578125 7.542969 C 21.699219 6.992188 21.761719 5.742188 21.699219 5.164062 C 21.496094 3.296875 20.664062 1.964844 19.003906 0.855469 C 18.480469 0.503906 18.457031 0.5 18.214844 0.632812\"/>\n",
              "</g>\n",
              "      </svg>\n",
              "    "
            ]
          },
          "metadata": {}
        },
        {
          "name": "stdout",
          "output_type": "stream",
          "text": [
            "거북이의 회전 각도 : 90\n",
            "거북이의 이동 거리 : 100\n",
            "거북이의 회전 각도 : 90\n",
            "거북이의 이동 거리 : 100\n",
            "거북이의 회전 각도 : 90\n",
            "거북이의 이동 거리 : 100\n",
            "거북이의 회전 각도 : 0\n",
            "거북이의 이동 거리 : 0\n",
            "거북이의 회전 각도 : 90\n",
            "거북이의 이동 거리 : 100\n",
            "거북이의 회전 각도 : 135\n",
            "거북이의 이동 거리 : 150\n",
            "거북이의 회전 각도 : 135\n"
          ]
        },
        {
          "output_type": "error",
          "ename": "KeyboardInterrupt",
          "evalue": "ignored",
          "traceback": [
            "\u001b[0;31m---------------------------------------------------------------------------\u001b[0m",
            "\u001b[0;31mKeyboardInterrupt\u001b[0m                         Traceback (most recent call last)",
            "\u001b[0;32m<ipython-input-36-c13630d79c0e>\u001b[0m in \u001b[0;36m<module>\u001b[0;34m\u001b[0m\n\u001b[1;32m      7\u001b[0m \u001b[0;32mwhile\u001b[0m \u001b[0;32mTrue\u001b[0m \u001b[0;34m:\u001b[0m\u001b[0;34m\u001b[0m\u001b[0;34m\u001b[0m\u001b[0m\n\u001b[1;32m      8\u001b[0m   \u001b[0mturtle\u001b[0m\u001b[0;34m.\u001b[0m\u001b[0mleft\u001b[0m\u001b[0;34m(\u001b[0m\u001b[0mint\u001b[0m\u001b[0;34m(\u001b[0m\u001b[0minput\u001b[0m\u001b[0;34m(\u001b[0m\u001b[0;34m'거북이의 회전 각도 : '\u001b[0m\u001b[0;34m)\u001b[0m\u001b[0;34m)\u001b[0m\u001b[0;34m)\u001b[0m\u001b[0;34m\u001b[0m\u001b[0;34m\u001b[0m\u001b[0m\n\u001b[0;32m----> 9\u001b[0;31m   \u001b[0mturtle\u001b[0m\u001b[0;34m.\u001b[0m\u001b[0mforward\u001b[0m\u001b[0;34m(\u001b[0m\u001b[0mint\u001b[0m\u001b[0;34m(\u001b[0m\u001b[0minput\u001b[0m\u001b[0;34m(\u001b[0m\u001b[0;34m'거북이의 이동 거리 : '\u001b[0m\u001b[0;34m)\u001b[0m\u001b[0;34m)\u001b[0m\u001b[0;34m)\u001b[0m\u001b[0;34m\u001b[0m\u001b[0;34m\u001b[0m\u001b[0m\n\u001b[0m",
            "\u001b[0;32m/usr/local/lib/python3.7/dist-packages/ipykernel/kernelbase.py\u001b[0m in \u001b[0;36mraw_input\u001b[0;34m(self, prompt)\u001b[0m\n\u001b[1;32m    861\u001b[0m             \u001b[0mself\u001b[0m\u001b[0;34m.\u001b[0m\u001b[0m_parent_ident\u001b[0m\u001b[0;34m,\u001b[0m\u001b[0;34m\u001b[0m\u001b[0;34m\u001b[0m\u001b[0m\n\u001b[1;32m    862\u001b[0m             \u001b[0mself\u001b[0m\u001b[0;34m.\u001b[0m\u001b[0m_parent_header\u001b[0m\u001b[0;34m,\u001b[0m\u001b[0;34m\u001b[0m\u001b[0;34m\u001b[0m\u001b[0m\n\u001b[0;32m--> 863\u001b[0;31m             \u001b[0mpassword\u001b[0m\u001b[0;34m=\u001b[0m\u001b[0;32mFalse\u001b[0m\u001b[0;34m,\u001b[0m\u001b[0;34m\u001b[0m\u001b[0;34m\u001b[0m\u001b[0m\n\u001b[0m\u001b[1;32m    864\u001b[0m         )\n\u001b[1;32m    865\u001b[0m \u001b[0;34m\u001b[0m\u001b[0m\n",
            "\u001b[0;32m/usr/local/lib/python3.7/dist-packages/ipykernel/kernelbase.py\u001b[0m in \u001b[0;36m_input_request\u001b[0;34m(self, prompt, ident, parent, password)\u001b[0m\n\u001b[1;32m    902\u001b[0m             \u001b[0;32mexcept\u001b[0m \u001b[0mKeyboardInterrupt\u001b[0m\u001b[0;34m:\u001b[0m\u001b[0;34m\u001b[0m\u001b[0;34m\u001b[0m\u001b[0m\n\u001b[1;32m    903\u001b[0m                 \u001b[0;31m# re-raise KeyboardInterrupt, to truncate traceback\u001b[0m\u001b[0;34m\u001b[0m\u001b[0;34m\u001b[0m\u001b[0;34m\u001b[0m\u001b[0m\n\u001b[0;32m--> 904\u001b[0;31m                 \u001b[0;32mraise\u001b[0m \u001b[0mKeyboardInterrupt\u001b[0m\u001b[0;34m(\u001b[0m\u001b[0;34m\"Interrupted by user\"\u001b[0m\u001b[0;34m)\u001b[0m \u001b[0;32mfrom\u001b[0m \u001b[0;32mNone\u001b[0m\u001b[0;34m\u001b[0m\u001b[0;34m\u001b[0m\u001b[0m\n\u001b[0m\u001b[1;32m    905\u001b[0m             \u001b[0;32mexcept\u001b[0m \u001b[0mException\u001b[0m \u001b[0;32mas\u001b[0m \u001b[0me\u001b[0m\u001b[0;34m:\u001b[0m\u001b[0;34m\u001b[0m\u001b[0;34m\u001b[0m\u001b[0m\n\u001b[1;32m    906\u001b[0m                 \u001b[0mself\u001b[0m\u001b[0;34m.\u001b[0m\u001b[0mlog\u001b[0m\u001b[0;34m.\u001b[0m\u001b[0mwarning\u001b[0m\u001b[0;34m(\u001b[0m\u001b[0;34m\"Invalid Message:\"\u001b[0m\u001b[0;34m,\u001b[0m \u001b[0mexc_info\u001b[0m\u001b[0;34m=\u001b[0m\u001b[0;32mTrue\u001b[0m\u001b[0;34m)\u001b[0m\u001b[0;34m\u001b[0m\u001b[0;34m\u001b[0m\u001b[0m\n",
            "\u001b[0;31mKeyboardInterrupt\u001b[0m: Interrupted by user"
          ]
        }
      ]
    }
  ]
}